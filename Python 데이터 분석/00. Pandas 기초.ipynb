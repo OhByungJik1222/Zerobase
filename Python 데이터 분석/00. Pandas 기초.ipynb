{
 "cells": [
  {
   "cell_type": "markdown",
   "id": "f7670521",
   "metadata": {},
   "source": [
    "## **Random seed로 샘플데이터 만들기**"
   ]
  },
  {
   "cell_type": "code",
   "execution_count": 3,
   "id": "6224a15f",
   "metadata": {},
   "outputs": [],
   "source": [
    "import random"
   ]
  },
  {
   "cell_type": "code",
   "execution_count": 4,
   "id": "bd9b2b32",
   "metadata": {},
   "outputs": [
    {
     "data": {
      "text/plain": [
       "10"
      ]
     },
     "execution_count": 4,
     "metadata": {},
     "output_type": "execute_result"
    }
   ],
   "source": [
    "random.randint(0, 10)"
   ]
  },
  {
   "cell_type": "code",
   "execution_count": 5,
   "id": "56e1fb83",
   "metadata": {},
   "outputs": [
    {
     "name": "stdout",
     "output_type": "stream",
     "text": [
      "10\n",
      "1\n",
      "0\n",
      "4\n",
      "3\n"
     ]
    }
   ],
   "source": [
    "random.seed(42)\n",
    "\n",
    "for _ in range(5):\n",
    "    print(random.randint(0, 10))"
   ]
  },
  {
   "cell_type": "code",
   "execution_count": 6,
   "id": "6afd1a94",
   "metadata": {},
   "outputs": [
    {
     "name": "stdout",
     "output_type": "stream",
     "text": [
      "B\n",
      "B\n",
      "A\n",
      "F\n",
      "A\n",
      "F\n",
      "D\n",
      "A\n",
      "A\n",
      "A\n",
      "['B', 'C', 'A', 'A', 'D']\n"
     ]
    }
   ],
   "source": [
    "grade = [l for l in 'ABCDF']\n",
    "\n",
    "for _ in range(5):\n",
    "    print(grade[random.randint(0, len(grade) - 1)])\n",
    "    print(random.choice(grade))\n",
    "\n",
    "data = random.choices(grade, k=5)\n",
    "print(data)"
   ]
  },
  {
   "cell_type": "code",
   "execution_count": 7,
   "id": "bf42dc22",
   "metadata": {},
   "outputs": [
    {
     "name": "stdout",
     "output_type": "stream",
     "text": [
      "Collecting Faker\n",
      "  Downloading faker-37.6.0-py3-none-any.whl.metadata (15 kB)\n",
      "Requirement already satisfied: tzdata in c:\\users\\samsung\\anaconda3\\lib\\site-packages (from Faker) (2023.3)\n",
      "Downloading faker-37.6.0-py3-none-any.whl (1.9 MB)\n",
      "   ---------------------------------------- 0.0/1.9 MB ? eta -:--:--\n",
      "   ---------------------------------------- 1.9/1.9 MB 21.6 MB/s eta 0:00:00\n",
      "Installing collected packages: Faker\n",
      "Successfully installed Faker-37.6.0\n",
      "Note: you may need to restart the kernel to use updated packages.\n"
     ]
    }
   ],
   "source": [
    "%pip install Faker"
   ]
  },
  {
   "cell_type": "code",
   "execution_count": 8,
   "id": "b6ab9a92",
   "metadata": {},
   "outputs": [],
   "source": [
    "from faker import Faker"
   ]
  },
  {
   "cell_type": "code",
   "execution_count": 12,
   "id": "e3fe7463",
   "metadata": {},
   "outputs": [
    {
     "name": "stdout",
     "output_type": "stream",
     "text": [
      "['김수민', '서정남', '김영자', '김영일', '김재호', '김은서', '김지원', '이민지', '이미숙', '홍예준']\n",
      "['지원', '지민', '옥자', '현지', '영미', '유진', '지은', '은정', '채원', '은경']\n",
      "['도금 및 금속분무기 조작원', '응용 소프트웨어 개발자', '기타 판매 및 고객 서비스 관리자', '기타 식품가공관련 기계조작원', '판사 및 검사', '인쇄기 조작원', '큐레이터 및 문화재 보존원', '웹 개발자', '변리사', '금속 / 재료공학 연구원 및 기술자']\n"
     ]
    }
   ],
   "source": [
    "fake = Faker('ko_KR')\n",
    "Faker.seed(42)\n",
    "\n",
    "names = [fake.name() for _ in range(10)]\n",
    "print(names)\n",
    "\n",
    "first_names = [fake.first_name_female() for _ in range(10)]\n",
    "print(first_names)\n",
    "\n",
    "jobs = [fake.job() for _ in range(10)]\n",
    "print(jobs)"
   ]
  },
  {
   "cell_type": "markdown",
   "id": "fc272b83",
   "metadata": {},
   "source": [
    "---"
   ]
  },
  {
   "cell_type": "markdown",
   "id": "28887744",
   "metadata": {},
   "source": [
    "## **Series 만들기**"
   ]
  },
  {
   "cell_type": "code",
   "execution_count": 13,
   "id": "bba167e5",
   "metadata": {},
   "outputs": [],
   "source": [
    "import pandas as pd\n",
    "import numpy as np"
   ]
  },
  {
   "cell_type": "code",
   "execution_count": 16,
   "id": "c5bbd24b",
   "metadata": {},
   "outputs": [
    {
     "name": "stdout",
     "output_type": "stream",
     "text": [
      "[0, 1, 2, 3, 4]\n",
      "['A', 'B', 'C', 'D', 'E']\n"
     ]
    }
   ],
   "source": [
    "values = list(range(5))\n",
    "index = [letter for letter in 'ABCDE']\n",
    "print(values)\n",
    "print(index)"
   ]
  },
  {
   "cell_type": "code",
   "execution_count": 17,
   "id": "03d5903d",
   "metadata": {},
   "outputs": [
    {
     "data": {
      "text/plain": [
       "A    0\n",
       "B    1\n",
       "C    2\n",
       "D    3\n",
       "E    4\n",
       "dtype: int64"
      ]
     },
     "execution_count": 17,
     "metadata": {},
     "output_type": "execute_result"
    }
   ],
   "source": [
    "series = pd.Series(values, index=index)\n",
    "series"
   ]
  },
  {
   "cell_type": "code",
   "execution_count": 18,
   "id": "1aaff21e",
   "metadata": {},
   "outputs": [
    {
     "data": {
      "text/plain": [
       "A    True\n",
       "B    True\n",
       "C    True\n",
       "D    True\n",
       "E    True\n",
       "dtype: bool"
      ]
     },
     "execution_count": 18,
     "metadata": {},
     "output_type": "execute_result"
    }
   ],
   "source": [
    "values == series"
   ]
  },
  {
   "cell_type": "code",
   "execution_count": 19,
   "id": "42d77323",
   "metadata": {},
   "outputs": [
    {
     "data": {
      "text/plain": [
       "A     True\n",
       "B    False\n",
       "C    False\n",
       "D    False\n",
       "E    False\n",
       "dtype: bool"
      ]
     },
     "execution_count": 19,
     "metadata": {},
     "output_type": "execute_result"
    }
   ],
   "source": [
    "values[0] == series"
   ]
  },
  {
   "cell_type": "code",
   "execution_count": 20,
   "id": "95da6217",
   "metadata": {},
   "outputs": [
    {
     "data": {
      "text/plain": [
       "{'A': 0, 'B': 1, 'C': 2, 'D': 3, 'E': 4}"
      ]
     },
     "execution_count": 20,
     "metadata": {},
     "output_type": "execute_result"
    }
   ],
   "source": [
    "py_dict = dict(zip(index, values))\n",
    "py_dict"
   ]
  },
  {
   "cell_type": "code",
   "execution_count": 21,
   "id": "cc15540d",
   "metadata": {},
   "outputs": [
    {
     "data": {
      "text/plain": [
       "A    0\n",
       "B    1\n",
       "C    2\n",
       "D    3\n",
       "E    4\n",
       "dtype: int64"
      ]
     },
     "execution_count": 21,
     "metadata": {},
     "output_type": "execute_result"
    }
   ],
   "source": [
    "series_dict = pd.Series(py_dict)\n",
    "series_dict"
   ]
  },
  {
   "cell_type": "code",
   "execution_count": 23,
   "id": "3acbb09e",
   "metadata": {},
   "outputs": [
    {
     "data": {
      "text/plain": [
       "A    False\n",
       "B    False\n",
       "C    False\n",
       "D    False\n",
       "E    False\n",
       "dtype: bool"
      ]
     },
     "execution_count": 23,
     "metadata": {},
     "output_type": "execute_result"
    }
   ],
   "source": [
    "py_dict.values() == series_dict"
   ]
  },
  {
   "cell_type": "code",
   "execution_count": 24,
   "id": "0f7d0c06",
   "metadata": {},
   "outputs": [
    {
     "data": {
      "text/plain": [
       "A    True\n",
       "B    True\n",
       "C    True\n",
       "D    True\n",
       "E    True\n",
       "dtype: bool"
      ]
     },
     "execution_count": 24,
     "metadata": {},
     "output_type": "execute_result"
    }
   ],
   "source": [
    "list(py_dict.values()) == series_dict"
   ]
  },
  {
   "cell_type": "markdown",
   "id": "adb237c9",
   "metadata": {},
   "source": [
    "---"
   ]
  },
  {
   "cell_type": "markdown",
   "id": "7f9ed08d",
   "metadata": {},
   "source": [
    "## **Series 인덱싱과 슬라이싱**"
   ]
  },
  {
   "cell_type": "code",
   "execution_count": 26,
   "id": "5e9f44db",
   "metadata": {},
   "outputs": [],
   "source": [
    "import pandas as pd\n",
    "import numpy as np\n",
    "import random\n",
    "from faker import Faker\n",
    "\n",
    "random_seed = 42"
   ]
  },
  {
   "cell_type": "code",
   "execution_count": 30,
   "id": "32549471",
   "metadata": {},
   "outputs": [
    {
     "name": "stdout",
     "output_type": "stream",
     "text": [
      "['김수민', '서정남', '김영자', '김영일', '김재호', '김은서', '김지원', '이민지', '이미숙', '홍예준']\n",
      "[27, 37, 28, 36, 36, 44, 33, 50, 26, 48]\n",
      "['A', 'B', 'C', 'D', 'E', 'F', 'G', 'H', 'I', 'J']\n"
     ]
    }
   ],
   "source": [
    "fake = Faker('ko_KR')\n",
    "Faker.seed(random_seed)\n",
    "\n",
    "names = [fake.name() for _ in range(10)]\n",
    "ages = [random.randint(25, 50) for _ in range(10)]\n",
    "index = [chr(ord('A') + i) for i in range(10)]\n",
    "\n",
    "print(names)\n",
    "print(ages)\n",
    "print(index)"
   ]
  },
  {
   "cell_type": "code",
   "execution_count": 31,
   "id": "49dec01f",
   "metadata": {},
   "outputs": [
    {
     "data": {
      "text/plain": [
       "A    김수민\n",
       "B    서정남\n",
       "C    김영자\n",
       "D    김영일\n",
       "E    김재호\n",
       "F    김은서\n",
       "G    김지원\n",
       "H    이민지\n",
       "I    이미숙\n",
       "J    홍예준\n",
       "dtype: object"
      ]
     },
     "execution_count": 31,
     "metadata": {},
     "output_type": "execute_result"
    }
   ],
   "source": [
    "name_series = pd.Series(names, index=index)\n",
    "name_series"
   ]
  },
  {
   "cell_type": "code",
   "execution_count": 37,
   "id": "62a9e420",
   "metadata": {},
   "outputs": [
    {
     "name": "stdout",
     "output_type": "stream",
     "text": [
      "name_series[2]: 김영자\n",
      "name_series['D']: 김영일\n",
      "name_series.loc['D']: 김영일\n",
      "name_series.iloc[2]: 김영자\n",
      "name_series.at['D']: 김영일\n",
      "name_series.iat[2]: 김영자\n"
     ]
    },
    {
     "name": "stderr",
     "output_type": "stream",
     "text": [
      "C:\\Users\\samsung\\AppData\\Local\\Temp\\ipykernel_15636\\3957326648.py:1: FutureWarning: Series.__getitem__ treating keys as positions is deprecated. In a future version, integer keys will always be treated as labels (consistent with DataFrame behavior). To access a value by position, use `ser.iloc[pos]`\n",
      "  print('name_series[2]:', name_series[2])\n"
     ]
    }
   ],
   "source": [
    "print('name_series[2]:', name_series[2])\n",
    "print(\"name_series['D']:\", name_series['D'])\n",
    "\n",
    "print(\"name_series.loc['D']:\", name_series.loc['D'])\n",
    "print(\"name_series.iloc[2]:\", name_series.iloc[2])\n",
    "\n",
    "print(\"name_series.at['D']:\", name_series.at['D'])\n",
    "print(\"name_series.iat[2]:\", name_series.iat[2])"
   ]
  },
  {
   "cell_type": "code",
   "execution_count": 42,
   "id": "38234a66",
   "metadata": {},
   "outputs": [
    {
     "data": {
      "text/plain": [
       "0    김수민\n",
       "2    서정남\n",
       "5    김영자\n",
       "dtype: object"
      ]
     },
     "metadata": {},
     "output_type": "display_data"
    },
    {
     "name": "stdout",
     "output_type": "stream",
     "text": [
      "tmp[0]: 김수민\n",
      "tmp.loc[2]: 서정남\n",
      "tmp.iloc[2]: 김영자\n",
      "tmp[2]: 서정남\n"
     ]
    }
   ],
   "source": [
    "tmp = pd.Series(names[:3], index=[0, 2, 5])\n",
    "display(tmp)\n",
    "\n",
    "print('tmp[0]:', tmp[0])\n",
    "print('tmp.loc[2]:', tmp.loc[2])\n",
    "print('tmp.iloc[2]:', tmp.iloc[2])\n",
    "print('tmp[2]:', tmp[2])"
   ]
  },
  {
   "cell_type": "code",
   "execution_count": 43,
   "id": "799b9914",
   "metadata": {},
   "outputs": [
    {
     "data": {
      "text/plain": [
       "B    서정남\n",
       "C    김영자\n",
       "D    김영일\n",
       "E    김재호\n",
       "dtype: object"
      ]
     },
     "execution_count": 43,
     "metadata": {},
     "output_type": "execute_result"
    }
   ],
   "source": [
    "name_series['B':'E']"
   ]
  },
  {
   "cell_type": "markdown",
   "id": "c09180a4",
   "metadata": {},
   "source": [
    "---\n",
    "## **Series 속성**"
   ]
  },
  {
   "cell_type": "code",
   "execution_count": 44,
   "id": "c9b7f91f",
   "metadata": {},
   "outputs": [
    {
     "data": {
      "text/plain": [
       "A    김수민\n",
       "B    서정남\n",
       "C    김영자\n",
       "D    김영일\n",
       "E    김재호\n",
       "F    김은서\n",
       "G    김지원\n",
       "H    이민지\n",
       "I    이미숙\n",
       "J    홍예준\n",
       "dtype: object"
      ]
     },
     "execution_count": 44,
     "metadata": {},
     "output_type": "execute_result"
    }
   ],
   "source": [
    "name_series"
   ]
  },
  {
   "cell_type": "code",
   "execution_count": 45,
   "id": "e9fbd64a",
   "metadata": {},
   "outputs": [
    {
     "data": {
      "text/plain": [
       "Index(['A', 'B', 'C', 'D', 'E', 'F', 'G', 'H', 'I', 'J'], dtype='object')"
      ]
     },
     "execution_count": 45,
     "metadata": {},
     "output_type": "execute_result"
    }
   ],
   "source": [
    "name_series.index"
   ]
  },
  {
   "cell_type": "code",
   "execution_count": 46,
   "id": "baae294d",
   "metadata": {},
   "outputs": [
    {
     "data": {
      "text/plain": [
       "array(['김수민', '서정남', '김영자', '김영일', '김재호', '김은서', '김지원', '이민지', '이미숙',\n",
       "       '홍예준'], dtype=object)"
      ]
     },
     "execution_count": 46,
     "metadata": {},
     "output_type": "execute_result"
    }
   ],
   "source": [
    "name_series.values"
   ]
  },
  {
   "cell_type": "code",
   "execution_count": 48,
   "id": "9d5656fb",
   "metadata": {},
   "outputs": [
    {
     "data": {
      "text/plain": [
       "dtype('O')"
      ]
     },
     "execution_count": 48,
     "metadata": {},
     "output_type": "execute_result"
    }
   ],
   "source": [
    "name_series.dtype"
   ]
  },
  {
   "cell_type": "code",
   "execution_count": 49,
   "id": "676e472e",
   "metadata": {},
   "outputs": [
    {
     "data": {
      "text/plain": [
       "(10,)"
      ]
     },
     "execution_count": 49,
     "metadata": {},
     "output_type": "execute_result"
    }
   ],
   "source": [
    "name_series.shape"
   ]
  },
  {
   "cell_type": "code",
   "execution_count": 50,
   "id": "7464d524",
   "metadata": {},
   "outputs": [
    {
     "data": {
      "text/plain": [
       "10"
      ]
     },
     "execution_count": 50,
     "metadata": {},
     "output_type": "execute_result"
    }
   ],
   "source": [
    "name_series.size"
   ]
  },
  {
   "cell_type": "code",
   "execution_count": 51,
   "id": "eaf95340",
   "metadata": {},
   "outputs": [
    {
     "data": {
      "text/plain": [
       "False"
      ]
     },
     "execution_count": 51,
     "metadata": {},
     "output_type": "execute_result"
    }
   ],
   "source": [
    "name_series.hasnans"
   ]
  },
  {
   "cell_type": "code",
   "execution_count": 52,
   "id": "e9edd20b",
   "metadata": {},
   "outputs": [
    {
     "name": "stderr",
     "output_type": "stream",
     "text": [
      "C:\\Users\\samsung\\AppData\\Local\\Temp\\ipykernel_15636\\484073630.py:1: FutureWarning: Series.__setitem__ treating keys as positions is deprecated. In a future version, integer keys will always be treated as labels (consistent with DataFrame behavior). To set a value by position, use `ser.iloc[pos] = value`\n",
      "  name_series[0] = np.nan\n"
     ]
    },
    {
     "data": {
      "text/plain": [
       "True"
      ]
     },
     "execution_count": 52,
     "metadata": {},
     "output_type": "execute_result"
    }
   ],
   "source": [
    "name_series[0] = np.nan\n",
    "name_series.hasnans"
   ]
  },
  {
   "cell_type": "code",
   "execution_count": 53,
   "id": "a31b58b4",
   "metadata": {},
   "outputs": [
    {
     "data": {
      "text/plain": [
       "True"
      ]
     },
     "execution_count": 53,
     "metadata": {},
     "output_type": "execute_result"
    }
   ],
   "source": [
    "name_series.is_unique"
   ]
  },
  {
   "cell_type": "code",
   "execution_count": 54,
   "id": "2aa52fa4",
   "metadata": {},
   "outputs": [
    {
     "data": {
      "text/plain": [
       "False"
      ]
     },
     "execution_count": 54,
     "metadata": {},
     "output_type": "execute_result"
    }
   ],
   "source": [
    "name_series['I':'J'] = '강성구'\n",
    "name_series.is_unique"
   ]
  },
  {
   "cell_type": "code",
   "execution_count": 56,
   "id": "60571539",
   "metadata": {},
   "outputs": [
    {
     "data": {
      "text/plain": [
       "A    NaN\n",
       "B    서정남\n",
       "C    김영자\n",
       "D    김영일\n",
       "E    김재호\n",
       "F    김은서\n",
       "G    김지원\n",
       "H    이민지\n",
       "I    강성구\n",
       "J    강성구\n",
       "Name: 시리즈 테스트 - 이름, dtype: object"
      ]
     },
     "execution_count": 56,
     "metadata": {},
     "output_type": "execute_result"
    }
   ],
   "source": [
    "name_series.name = '시리즈 테스트 - 이름'\n",
    "name_series"
   ]
  },
  {
   "cell_type": "markdown",
   "id": "8ad1d2b4",
   "metadata": {},
   "source": [
    "---\n",
    "## **Series 기능**"
   ]
  },
  {
   "cell_type": "code",
   "execution_count": 57,
   "id": "dffe3af8",
   "metadata": {},
   "outputs": [
    {
     "data": {
      "text/plain": [
       "A    NaN\n",
       "B    서정남\n",
       "C    김영자\n",
       "D    김영일\n",
       "E    김재호\n",
       "Name: 시리즈 테스트 - 이름, dtype: object"
      ]
     },
     "execution_count": 57,
     "metadata": {},
     "output_type": "execute_result"
    }
   ],
   "source": [
    "name_series.head()"
   ]
  },
  {
   "cell_type": "code",
   "execution_count": 58,
   "id": "90d4efe5",
   "metadata": {},
   "outputs": [
    {
     "data": {
      "text/plain": [
       "F    김은서\n",
       "G    김지원\n",
       "H    이민지\n",
       "I    강성구\n",
       "J    강성구\n",
       "Name: 시리즈 테스트 - 이름, dtype: object"
      ]
     },
     "execution_count": 58,
     "metadata": {},
     "output_type": "execute_result"
    }
   ],
   "source": [
    "name_series.tail()"
   ]
  },
  {
   "cell_type": "code",
   "execution_count": 59,
   "id": "a28b24a4",
   "metadata": {},
   "outputs": [
    {
     "data": {
      "text/plain": [
       "array([nan, '서정남', '김영자', '김영일', '김재호', '김은서', '김지원', '이민지', '강성구'],\n",
       "      dtype=object)"
      ]
     },
     "execution_count": 59,
     "metadata": {},
     "output_type": "execute_result"
    }
   ],
   "source": [
    "name_series.unique()"
   ]
  },
  {
   "cell_type": "code",
   "execution_count": 60,
   "id": "3d31adc9",
   "metadata": {},
   "outputs": [
    {
     "data": {
      "text/plain": [
       "A    False\n",
       "B    False\n",
       "C    False\n",
       "D    False\n",
       "E    False\n",
       "F    False\n",
       "G    False\n",
       "H    False\n",
       "I    False\n",
       "J     True\n",
       "Name: 시리즈 테스트 - 이름, dtype: bool"
      ]
     },
     "execution_count": 60,
     "metadata": {},
     "output_type": "execute_result"
    }
   ],
   "source": [
    "name_series.duplicated()"
   ]
  },
  {
   "cell_type": "code",
   "execution_count": 61,
   "id": "27070365",
   "metadata": {},
   "outputs": [
    {
     "data": {
      "text/plain": [
       "A    False\n",
       "B    False\n",
       "C    False\n",
       "D    False\n",
       "E    False\n",
       "F    False\n",
       "G    False\n",
       "H    False\n",
       "I     True\n",
       "J    False\n",
       "Name: 시리즈 테스트 - 이름, dtype: bool"
      ]
     },
     "execution_count": 61,
     "metadata": {},
     "output_type": "execute_result"
    }
   ],
   "source": [
    "name_series.duplicated(keep='last')"
   ]
  },
  {
   "cell_type": "code",
   "execution_count": 62,
   "id": "bf6c0786",
   "metadata": {},
   "outputs": [
    {
     "data": {
      "text/plain": [
       "시리즈 테스트 - 이름\n",
       "강성구    2\n",
       "서정남    1\n",
       "김영자    1\n",
       "김영일    1\n",
       "김재호    1\n",
       "김은서    1\n",
       "김지원    1\n",
       "이민지    1\n",
       "Name: count, dtype: int64"
      ]
     },
     "execution_count": 62,
     "metadata": {},
     "output_type": "execute_result"
    }
   ],
   "source": [
    "name_series.value_counts()"
   ]
  },
  {
   "cell_type": "code",
   "execution_count": 63,
   "id": "fc2945e6",
   "metadata": {},
   "outputs": [
    {
     "data": {
      "text/plain": [
       "시리즈 테스트 - 이름\n",
       "강성구    2\n",
       "NaN    1\n",
       "서정남    1\n",
       "김영자    1\n",
       "김영일    1\n",
       "김재호    1\n",
       "김은서    1\n",
       "김지원    1\n",
       "이민지    1\n",
       "Name: count, dtype: int64"
      ]
     },
     "execution_count": 63,
     "metadata": {},
     "output_type": "execute_result"
    }
   ],
   "source": [
    "name_series.value_counts(dropna=False)"
   ]
  },
  {
   "cell_type": "code",
   "execution_count": 64,
   "id": "886b9f7e",
   "metadata": {},
   "outputs": [
    {
     "data": {
      "text/plain": [
       "시리즈 테스트 - 이름\n",
       "NaN    1\n",
       "서정남    1\n",
       "김영자    1\n",
       "김영일    1\n",
       "김재호    1\n",
       "김은서    1\n",
       "김지원    1\n",
       "이민지    1\n",
       "강성구    2\n",
       "Name: count, dtype: int64"
      ]
     },
     "execution_count": 64,
     "metadata": {},
     "output_type": "execute_result"
    }
   ],
   "source": [
    "name_series.value_counts(dropna=False, ascending=True)"
   ]
  },
  {
   "cell_type": "code",
   "execution_count": 65,
   "id": "71c709d1",
   "metadata": {},
   "outputs": [
    {
     "data": {
      "text/plain": [
       "시리즈 테스트 - 이름\n",
       "NaN    1\n",
       "서정남    1\n",
       "김영자    1\n",
       "김영일    1\n",
       "김재호    1\n",
       "김은서    1\n",
       "김지원    1\n",
       "이민지    1\n",
       "강성구    2\n",
       "Name: count, dtype: int64"
      ]
     },
     "execution_count": 65,
     "metadata": {},
     "output_type": "execute_result"
    }
   ],
   "source": [
    "name_series.value_counts(dropna=False, sort=False)"
   ]
  },
  {
   "cell_type": "code",
   "execution_count": 66,
   "id": "f90eb0cb",
   "metadata": {},
   "outputs": [
    {
     "data": {
      "text/plain": [
       "시리즈 테스트 - 이름\n",
       "NaN    0.1\n",
       "서정남    0.1\n",
       "김영자    0.1\n",
       "김영일    0.1\n",
       "김재호    0.1\n",
       "김은서    0.1\n",
       "김지원    0.1\n",
       "이민지    0.1\n",
       "강성구    0.2\n",
       "Name: proportion, dtype: float64"
      ]
     },
     "execution_count": 66,
     "metadata": {},
     "output_type": "execute_result"
    }
   ],
   "source": [
    "name_series.value_counts(normalize=True, dropna=False, sort=False)"
   ]
  },
  {
   "cell_type": "code",
   "execution_count": 67,
   "id": "f7c1aa87",
   "metadata": {},
   "outputs": [
    {
     "data": {
      "text/plain": [
       "I    강성구\n",
       "J    강성구\n",
       "D    김영일\n",
       "C    김영자\n",
       "F    김은서\n",
       "E    김재호\n",
       "G    김지원\n",
       "B    서정남\n",
       "H    이민지\n",
       "A    NaN\n",
       "Name: 시리즈 테스트 - 이름, dtype: object"
      ]
     },
     "execution_count": 67,
     "metadata": {},
     "output_type": "execute_result"
    }
   ],
   "source": [
    "name_series.sort_values()"
   ]
  },
  {
   "cell_type": "code",
   "execution_count": 68,
   "id": "41897fea",
   "metadata": {},
   "outputs": [
    {
     "data": {
      "text/plain": [
       "A    NaN\n",
       "B    서정남\n",
       "C    김영자\n",
       "D    김영일\n",
       "E    김재호\n",
       "F    김은서\n",
       "G    김지원\n",
       "H    이민지\n",
       "I    강성구\n",
       "J    강성구\n",
       "Name: 시리즈 테스트 - 이름, dtype: object"
      ]
     },
     "execution_count": 68,
     "metadata": {},
     "output_type": "execute_result"
    }
   ],
   "source": [
    "name_series"
   ]
  },
  {
   "cell_type": "code",
   "execution_count": 69,
   "id": "a6e62821",
   "metadata": {},
   "outputs": [
    {
     "data": {
      "text/plain": [
       "A    NaN\n",
       "I    강성구\n",
       "J    강성구\n",
       "D    김영일\n",
       "C    김영자\n",
       "F    김은서\n",
       "E    김재호\n",
       "G    김지원\n",
       "B    서정남\n",
       "H    이민지\n",
       "Name: 시리즈 테스트 - 이름, dtype: object"
      ]
     },
     "execution_count": 69,
     "metadata": {},
     "output_type": "execute_result"
    }
   ],
   "source": [
    "sorted_ns = name_series.sort_values(na_position='first')\n",
    "sorted_ns"
   ]
  },
  {
   "cell_type": "code",
   "execution_count": 70,
   "id": "dfb28210",
   "metadata": {},
   "outputs": [
    {
     "data": {
      "text/plain": [
       "count       9\n",
       "unique      8\n",
       "top       강성구\n",
       "freq        2\n",
       "Name: 시리즈 테스트 - 이름, dtype: object"
      ]
     },
     "execution_count": 70,
     "metadata": {},
     "output_type": "execute_result"
    }
   ],
   "source": [
    "name_series.describe()"
   ]
  },
  {
   "cell_type": "code",
   "execution_count": 71,
   "id": "8fd7b649",
   "metadata": {},
   "outputs": [
    {
     "data": {
      "text/plain": [
       "A    27\n",
       "B    37\n",
       "C    28\n",
       "D    36\n",
       "E    36\n",
       "F    44\n",
       "G    33\n",
       "H    50\n",
       "I    26\n",
       "J    48\n",
       "dtype: int64"
      ]
     },
     "execution_count": 71,
     "metadata": {},
     "output_type": "execute_result"
    }
   ],
   "source": [
    "ages_ss = pd.Series(ages, index=index)\n",
    "ages_ss"
   ]
  },
  {
   "cell_type": "code",
   "execution_count": 72,
   "id": "0682832b",
   "metadata": {},
   "outputs": [
    {
     "data": {
      "text/plain": [
       "count    10.000000\n",
       "mean     36.500000\n",
       "std       8.540752\n",
       "min      26.000000\n",
       "25%      29.250000\n",
       "50%      36.000000\n",
       "75%      42.250000\n",
       "max      50.000000\n",
       "dtype: float64"
      ]
     },
     "execution_count": 72,
     "metadata": {},
     "output_type": "execute_result"
    }
   ],
   "source": [
    "ages_ss.describe()"
   ]
  },
  {
   "cell_type": "code",
   "execution_count": 74,
   "id": "4505bb07",
   "metadata": {},
   "outputs": [
    {
     "data": {
      "text/plain": [
       "'H'"
      ]
     },
     "execution_count": 74,
     "metadata": {},
     "output_type": "execute_result"
    }
   ],
   "source": [
    "ages_ss.idxmax()"
   ]
  },
  {
   "cell_type": "code",
   "execution_count": 75,
   "id": "ddbcec2d",
   "metadata": {},
   "outputs": [
    {
     "data": {
      "text/plain": [
       "'A'"
      ]
     },
     "execution_count": 75,
     "metadata": {},
     "output_type": "execute_result"
    }
   ],
   "source": [
    "ages_ss['A'] = 50\n",
    "ages_ss.idxmax()"
   ]
  },
  {
   "cell_type": "code",
   "execution_count": 76,
   "id": "38a50365",
   "metadata": {},
   "outputs": [
    {
     "ename": "TypeError",
     "evalue": "only list-like objects are allowed to be passed to isin(), you passed a `int`",
     "output_type": "error",
     "traceback": [
      "\u001b[1;31m---------------------------------------------------------------------------\u001b[0m",
      "\u001b[1;31mTypeError\u001b[0m                                 Traceback (most recent call last)",
      "Cell \u001b[1;32mIn[76], line 1\u001b[0m\n\u001b[1;32m----> 1\u001b[0m ages_ss\u001b[38;5;241m.\u001b[39misin(\u001b[38;5;241m37\u001b[39m)\n",
      "File \u001b[1;32mc:\\Users\\samsung\\anaconda3\\Lib\\site-packages\\pandas\\core\\series.py:5559\u001b[0m, in \u001b[0;36mSeries.isin\u001b[1;34m(self, values)\u001b[0m\n\u001b[0;32m   5486\u001b[0m \u001b[38;5;28;01mdef\u001b[39;00m \u001b[38;5;21misin\u001b[39m(\u001b[38;5;28mself\u001b[39m, values) \u001b[38;5;241m-\u001b[39m\u001b[38;5;241m>\u001b[39m Series:\n\u001b[0;32m   5487\u001b[0m \u001b[38;5;250m    \u001b[39m\u001b[38;5;124;03m\"\"\"\u001b[39;00m\n\u001b[0;32m   5488\u001b[0m \u001b[38;5;124;03m    Whether elements in Series are contained in `values`.\u001b[39;00m\n\u001b[0;32m   5489\u001b[0m \n\u001b[1;32m   (...)\u001b[0m\n\u001b[0;32m   5557\u001b[0m \u001b[38;5;124;03m    dtype: bool\u001b[39;00m\n\u001b[0;32m   5558\u001b[0m \u001b[38;5;124;03m    \"\"\"\u001b[39;00m\n\u001b[1;32m-> 5559\u001b[0m     result \u001b[38;5;241m=\u001b[39m algorithms\u001b[38;5;241m.\u001b[39misin(\u001b[38;5;28mself\u001b[39m\u001b[38;5;241m.\u001b[39m_values, values)\n\u001b[0;32m   5560\u001b[0m     \u001b[38;5;28;01mreturn\u001b[39;00m \u001b[38;5;28mself\u001b[39m\u001b[38;5;241m.\u001b[39m_constructor(result, index\u001b[38;5;241m=\u001b[39m\u001b[38;5;28mself\u001b[39m\u001b[38;5;241m.\u001b[39mindex, copy\u001b[38;5;241m=\u001b[39m\u001b[38;5;28;01mFalse\u001b[39;00m)\u001b[38;5;241m.\u001b[39m__finalize__(\n\u001b[0;32m   5561\u001b[0m         \u001b[38;5;28mself\u001b[39m, method\u001b[38;5;241m=\u001b[39m\u001b[38;5;124m\"\u001b[39m\u001b[38;5;124misin\u001b[39m\u001b[38;5;124m\"\u001b[39m\n\u001b[0;32m   5562\u001b[0m     )\n",
      "File \u001b[1;32mc:\\Users\\samsung\\anaconda3\\Lib\\site-packages\\pandas\\core\\algorithms.py:477\u001b[0m, in \u001b[0;36misin\u001b[1;34m(comps, values)\u001b[0m\n\u001b[0;32m    472\u001b[0m     \u001b[38;5;28;01mraise\u001b[39;00m \u001b[38;5;167;01mTypeError\u001b[39;00m(\n\u001b[0;32m    473\u001b[0m         \u001b[38;5;124m\"\u001b[39m\u001b[38;5;124monly list-like objects are allowed to be passed \u001b[39m\u001b[38;5;124m\"\u001b[39m\n\u001b[0;32m    474\u001b[0m         \u001b[38;5;124mf\u001b[39m\u001b[38;5;124m\"\u001b[39m\u001b[38;5;124mto isin(), you passed a `\u001b[39m\u001b[38;5;132;01m{\u001b[39;00m\u001b[38;5;28mtype\u001b[39m(comps)\u001b[38;5;241m.\u001b[39m\u001b[38;5;18m__name__\u001b[39m\u001b[38;5;132;01m}\u001b[39;00m\u001b[38;5;124m`\u001b[39m\u001b[38;5;124m\"\u001b[39m\n\u001b[0;32m    475\u001b[0m     )\n\u001b[0;32m    476\u001b[0m \u001b[38;5;28;01mif\u001b[39;00m \u001b[38;5;129;01mnot\u001b[39;00m is_list_like(values):\n\u001b[1;32m--> 477\u001b[0m     \u001b[38;5;28;01mraise\u001b[39;00m \u001b[38;5;167;01mTypeError\u001b[39;00m(\n\u001b[0;32m    478\u001b[0m         \u001b[38;5;124m\"\u001b[39m\u001b[38;5;124monly list-like objects are allowed to be passed \u001b[39m\u001b[38;5;124m\"\u001b[39m\n\u001b[0;32m    479\u001b[0m         \u001b[38;5;124mf\u001b[39m\u001b[38;5;124m\"\u001b[39m\u001b[38;5;124mto isin(), you passed a `\u001b[39m\u001b[38;5;132;01m{\u001b[39;00m\u001b[38;5;28mtype\u001b[39m(values)\u001b[38;5;241m.\u001b[39m\u001b[38;5;18m__name__\u001b[39m\u001b[38;5;132;01m}\u001b[39;00m\u001b[38;5;124m`\u001b[39m\u001b[38;5;124m\"\u001b[39m\n\u001b[0;32m    480\u001b[0m     )\n\u001b[0;32m    482\u001b[0m \u001b[38;5;28;01mif\u001b[39;00m \u001b[38;5;129;01mnot\u001b[39;00m \u001b[38;5;28misinstance\u001b[39m(values, (ABCIndex, ABCSeries, ABCExtensionArray, np\u001b[38;5;241m.\u001b[39mndarray)):\n\u001b[0;32m    483\u001b[0m     orig_values \u001b[38;5;241m=\u001b[39m \u001b[38;5;28mlist\u001b[39m(values)\n",
      "\u001b[1;31mTypeError\u001b[0m: only list-like objects are allowed to be passed to isin(), you passed a `int`"
     ]
    }
   ],
   "source": [
    "ages_ss.isin(37)"
   ]
  },
  {
   "cell_type": "code",
   "execution_count": 79,
   "id": "127e92f5",
   "metadata": {},
   "outputs": [
    {
     "data": {
      "text/plain": [
       "A     True\n",
       "B     True\n",
       "C    False\n",
       "D    False\n",
       "E    False\n",
       "F    False\n",
       "G    False\n",
       "H     True\n",
       "I    False\n",
       "J    False\n",
       "dtype: bool"
      ]
     },
     "execution_count": 79,
     "metadata": {},
     "output_type": "execute_result"
    }
   ],
   "source": [
    "ages_ss.isin([37, 50])"
   ]
  },
  {
   "cell_type": "code",
   "execution_count": 83,
   "id": "e8cf569b",
   "metadata": {},
   "outputs": [
    {
     "data": {
      "text/plain": [
       "A    2500\n",
       "B    1369\n",
       "C     784\n",
       "D    1296\n",
       "E    1296\n",
       "F    1936\n",
       "G    1089\n",
       "H    2500\n",
       "I     676\n",
       "J    2304\n",
       "dtype: int64"
      ]
     },
     "execution_count": 83,
     "metadata": {},
     "output_type": "execute_result"
    }
   ],
   "source": [
    "def square(x):\n",
    "    return x**2\n",
    "\n",
    "ages_ss.apply(square)"
   ]
  },
  {
   "cell_type": "code",
   "execution_count": 82,
   "id": "316f9421",
   "metadata": {},
   "outputs": [
    {
     "data": {
      "text/plain": [
       "A    150\n",
       "B    137\n",
       "C    128\n",
       "D    136\n",
       "E    136\n",
       "F    144\n",
       "G    133\n",
       "H    150\n",
       "I    126\n",
       "J    148\n",
       "dtype: int64"
      ]
     },
     "execution_count": 82,
     "metadata": {},
     "output_type": "execute_result"
    }
   ],
   "source": [
    "ages_ss.apply(lambda x: x + 100)"
   ]
  },
  {
   "cell_type": "code",
   "execution_count": 84,
   "id": "f266af84",
   "metadata": {},
   "outputs": [
    {
     "data": {
      "text/plain": [
       "A    200\n",
       "B    187\n",
       "C    178\n",
       "D    186\n",
       "E    186\n",
       "F    194\n",
       "G    183\n",
       "H    200\n",
       "I    176\n",
       "J    198\n",
       "dtype: int64"
      ]
     },
     "execution_count": 84,
     "metadata": {},
     "output_type": "execute_result"
    }
   ],
   "source": [
    "ages_ss.add(150)"
   ]
  },
  {
   "cell_type": "code",
   "execution_count": 85,
   "id": "a06428b3",
   "metadata": {},
   "outputs": [
    {
     "data": {
      "text/plain": [
       "A      NaN\n",
       "B    서정남 님\n",
       "C    김영자 님\n",
       "D    김영일 님\n",
       "E    김재호 님\n",
       "F    김은서 님\n",
       "G    김지원 님\n",
       "H    이민지 님\n",
       "I    강성구 님\n",
       "J    강성구 님\n",
       "Name: 시리즈 테스트 - 이름, dtype: object"
      ]
     },
     "execution_count": 85,
     "metadata": {},
     "output_type": "execute_result"
    }
   ],
   "source": [
    "name_series.add(' 님')"
   ]
  },
  {
   "cell_type": "code",
   "execution_count": 86,
   "id": "c0193116",
   "metadata": {},
   "outputs": [
    {
     "data": {
      "text/plain": [
       "A      NaN\n",
       "B    False\n",
       "C    False\n",
       "D    False\n",
       "E    False\n",
       "F    False\n",
       "G    False\n",
       "H    False\n",
       "I     True\n",
       "J     True\n",
       "Name: 시리즈 테스트 - 이름, dtype: object"
      ]
     },
     "execution_count": 86,
     "metadata": {},
     "output_type": "execute_result"
    }
   ],
   "source": [
    "name_series.str.contains('구')"
   ]
  },
  {
   "cell_type": "code",
   "execution_count": 87,
   "id": "5361788a",
   "metadata": {},
   "outputs": [
    {
     "data": {
      "text/plain": [
       "A     NaN\n",
       "B    True\n",
       "C    True\n",
       "D    True\n",
       "E    True\n",
       "F    True\n",
       "G    True\n",
       "H    True\n",
       "I    True\n",
       "J    True\n",
       "Name: 시리즈 테스트 - 이름, dtype: object"
      ]
     },
     "execution_count": 87,
     "metadata": {},
     "output_type": "execute_result"
    }
   ],
   "source": [
    "name_series.str.contains('.')"
   ]
  },
  {
   "cell_type": "code",
   "execution_count": 88,
   "id": "6ebb2b71",
   "metadata": {},
   "outputs": [
    {
     "data": {
      "text/plain": [
       "A      NaN\n",
       "B    False\n",
       "C    False\n",
       "D    False\n",
       "E    False\n",
       "F    False\n",
       "G    False\n",
       "H    False\n",
       "I    False\n",
       "J    False\n",
       "Name: 시리즈 테스트 - 이름, dtype: object"
      ]
     },
     "execution_count": 88,
     "metadata": {},
     "output_type": "execute_result"
    }
   ],
   "source": [
    "name_series.str.contains('.', regex=False)"
   ]
  },
  {
   "cell_type": "markdown",
   "id": "ab3ba338",
   "metadata": {},
   "source": [
    "---\n",
    "## **DataFrame 만들기**"
   ]
  },
  {
   "cell_type": "code",
   "execution_count": 89,
   "id": "2cf962e0",
   "metadata": {},
   "outputs": [
    {
     "data": {
      "text/plain": [
       "A    김수민\n",
       "B    서정남\n",
       "C    김영자\n",
       "D    김영일\n",
       "E    김재호\n",
       "F    김은서\n",
       "G    김지원\n",
       "H    이민지\n",
       "I    이미숙\n",
       "J    홍예준\n",
       "Name: 이름, dtype: object"
      ]
     },
     "metadata": {},
     "output_type": "display_data"
    },
    {
     "data": {
      "text/plain": [
       "A    27\n",
       "B    37\n",
       "C    28\n",
       "D    36\n",
       "E    36\n",
       "F    44\n",
       "G    33\n",
       "H    50\n",
       "I    26\n",
       "J    48\n",
       "Name: 나이, dtype: int64"
      ]
     },
     "metadata": {},
     "output_type": "display_data"
    }
   ],
   "source": [
    "ns = pd.Series(names, index=index, name='이름')\n",
    "ags = pd.Series(ages, index=index, name='나이')\n",
    "\n",
    "display(ns)\n",
    "display(ags)"
   ]
  },
  {
   "cell_type": "code",
   "execution_count": 91,
   "id": "d49d8e6f",
   "metadata": {},
   "outputs": [
    {
     "data": {
      "text/html": [
       "<div>\n",
       "<style scoped>\n",
       "    .dataframe tbody tr th:only-of-type {\n",
       "        vertical-align: middle;\n",
       "    }\n",
       "\n",
       "    .dataframe tbody tr th {\n",
       "        vertical-align: top;\n",
       "    }\n",
       "\n",
       "    .dataframe thead th {\n",
       "        text-align: right;\n",
       "    }\n",
       "</style>\n",
       "<table border=\"1\" class=\"dataframe\">\n",
       "  <thead>\n",
       "    <tr style=\"text-align: right;\">\n",
       "      <th></th>\n",
       "      <th>이름</th>\n",
       "    </tr>\n",
       "  </thead>\n",
       "  <tbody>\n",
       "    <tr>\n",
       "      <th>A</th>\n",
       "      <td>김수민</td>\n",
       "    </tr>\n",
       "    <tr>\n",
       "      <th>B</th>\n",
       "      <td>서정남</td>\n",
       "    </tr>\n",
       "    <tr>\n",
       "      <th>C</th>\n",
       "      <td>김영자</td>\n",
       "    </tr>\n",
       "    <tr>\n",
       "      <th>D</th>\n",
       "      <td>김영일</td>\n",
       "    </tr>\n",
       "    <tr>\n",
       "      <th>E</th>\n",
       "      <td>김재호</td>\n",
       "    </tr>\n",
       "    <tr>\n",
       "      <th>F</th>\n",
       "      <td>김은서</td>\n",
       "    </tr>\n",
       "    <tr>\n",
       "      <th>G</th>\n",
       "      <td>김지원</td>\n",
       "    </tr>\n",
       "    <tr>\n",
       "      <th>H</th>\n",
       "      <td>이민지</td>\n",
       "    </tr>\n",
       "    <tr>\n",
       "      <th>I</th>\n",
       "      <td>이미숙</td>\n",
       "    </tr>\n",
       "    <tr>\n",
       "      <th>J</th>\n",
       "      <td>홍예준</td>\n",
       "    </tr>\n",
       "  </tbody>\n",
       "</table>\n",
       "</div>"
      ],
      "text/plain": [
       "    이름\n",
       "A  김수민\n",
       "B  서정남\n",
       "C  김영자\n",
       "D  김영일\n",
       "E  김재호\n",
       "F  김은서\n",
       "G  김지원\n",
       "H  이민지\n",
       "I  이미숙\n",
       "J  홍예준"
      ]
     },
     "execution_count": 91,
     "metadata": {},
     "output_type": "execute_result"
    }
   ],
   "source": [
    "df1 = pd.DataFrame(ns)\n",
    "df1"
   ]
  },
  {
   "cell_type": "code",
   "execution_count": 93,
   "id": "39848f11",
   "metadata": {},
   "outputs": [
    {
     "data": {
      "text/html": [
       "<div>\n",
       "<style scoped>\n",
       "    .dataframe tbody tr th:only-of-type {\n",
       "        vertical-align: middle;\n",
       "    }\n",
       "\n",
       "    .dataframe tbody tr th {\n",
       "        vertical-align: top;\n",
       "    }\n",
       "\n",
       "    .dataframe thead th {\n",
       "        text-align: right;\n",
       "    }\n",
       "</style>\n",
       "<table border=\"1\" class=\"dataframe\">\n",
       "  <thead>\n",
       "    <tr style=\"text-align: right;\">\n",
       "      <th></th>\n",
       "      <th>이름</th>\n",
       "      <th>나이</th>\n",
       "    </tr>\n",
       "  </thead>\n",
       "  <tbody>\n",
       "    <tr>\n",
       "      <th>A</th>\n",
       "      <td>김수민</td>\n",
       "      <td>27</td>\n",
       "    </tr>\n",
       "    <tr>\n",
       "      <th>B</th>\n",
       "      <td>서정남</td>\n",
       "      <td>37</td>\n",
       "    </tr>\n",
       "    <tr>\n",
       "      <th>C</th>\n",
       "      <td>김영자</td>\n",
       "      <td>28</td>\n",
       "    </tr>\n",
       "    <tr>\n",
       "      <th>D</th>\n",
       "      <td>김영일</td>\n",
       "      <td>36</td>\n",
       "    </tr>\n",
       "    <tr>\n",
       "      <th>E</th>\n",
       "      <td>김재호</td>\n",
       "      <td>36</td>\n",
       "    </tr>\n",
       "    <tr>\n",
       "      <th>F</th>\n",
       "      <td>김은서</td>\n",
       "      <td>44</td>\n",
       "    </tr>\n",
       "    <tr>\n",
       "      <th>G</th>\n",
       "      <td>김지원</td>\n",
       "      <td>33</td>\n",
       "    </tr>\n",
       "    <tr>\n",
       "      <th>H</th>\n",
       "      <td>이민지</td>\n",
       "      <td>50</td>\n",
       "    </tr>\n",
       "    <tr>\n",
       "      <th>I</th>\n",
       "      <td>이미숙</td>\n",
       "      <td>26</td>\n",
       "    </tr>\n",
       "    <tr>\n",
       "      <th>J</th>\n",
       "      <td>홍예준</td>\n",
       "      <td>48</td>\n",
       "    </tr>\n",
       "  </tbody>\n",
       "</table>\n",
       "</div>"
      ],
      "text/plain": [
       "    이름  나이\n",
       "A  김수민  27\n",
       "B  서정남  37\n",
       "C  김영자  28\n",
       "D  김영일  36\n",
       "E  김재호  36\n",
       "F  김은서  44\n",
       "G  김지원  33\n",
       "H  이민지  50\n",
       "I  이미숙  26\n",
       "J  홍예준  48"
      ]
     },
     "execution_count": 93,
     "metadata": {},
     "output_type": "execute_result"
    }
   ],
   "source": [
    "df1['나이'] = ags\n",
    "df1"
   ]
  },
  {
   "cell_type": "code",
   "execution_count": 94,
   "id": "39868f29",
   "metadata": {},
   "outputs": [
    {
     "data": {
      "text/plain": [
       "['주유원',\n",
       " '환경/청소 및 경비 관련 관리자',\n",
       " '금속기계부품 조립원',\n",
       " '기타 음식서비스 종사원',\n",
       " '모피 및 가죽의복 제조원',\n",
       " '선장/항해사 및 도선사',\n",
       " '보험 심사원 및 사무원',\n",
       " '웹 개발자',\n",
       " '주조원',\n",
       " '감독 및 기술감독']"
      ]
     },
     "execution_count": 94,
     "metadata": {},
     "output_type": "execute_result"
    }
   ],
   "source": [
    "jobs = [fake.job() for _ in range(10)]\n",
    "jobs"
   ]
  },
  {
   "cell_type": "code",
   "execution_count": 96,
   "id": "0ca3e185",
   "metadata": {},
   "outputs": [
    {
     "data": {
      "text/plain": [
       "{'이름': A    김수민\n",
       " B    서정남\n",
       " C    김영자\n",
       " D    김영일\n",
       " E    김재호\n",
       " F    김은서\n",
       " G    김지원\n",
       " H    이민지\n",
       " I    이미숙\n",
       " J    홍예준\n",
       " Name: 이름, dtype: object,\n",
       " '나이': A    27\n",
       " B    37\n",
       " C    28\n",
       " D    36\n",
       " E    36\n",
       " F    44\n",
       " G    33\n",
       " H    50\n",
       " I    26\n",
       " J    48\n",
       " Name: 나이, dtype: int64,\n",
       " '직업': ['주유원',\n",
       "  '환경/청소 및 경비 관련 관리자',\n",
       "  '금속기계부품 조립원',\n",
       "  '기타 음식서비스 종사원',\n",
       "  '모피 및 가죽의복 제조원',\n",
       "  '선장/항해사 및 도선사',\n",
       "  '보험 심사원 및 사무원',\n",
       "  '웹 개발자',\n",
       "  '주조원',\n",
       "  '감독 및 기술감독']}"
      ]
     },
     "execution_count": 96,
     "metadata": {},
     "output_type": "execute_result"
    }
   ],
   "source": [
    "df_dict = {'이름': ns,\n",
    "           '나이': ags,\n",
    "           '직업': jobs}\n",
    "df_dict"
   ]
  },
  {
   "cell_type": "code",
   "execution_count": 98,
   "id": "fd1c40f5",
   "metadata": {},
   "outputs": [
    {
     "data": {
      "text/html": [
       "<div>\n",
       "<style scoped>\n",
       "    .dataframe tbody tr th:only-of-type {\n",
       "        vertical-align: middle;\n",
       "    }\n",
       "\n",
       "    .dataframe tbody tr th {\n",
       "        vertical-align: top;\n",
       "    }\n",
       "\n",
       "    .dataframe thead th {\n",
       "        text-align: right;\n",
       "    }\n",
       "</style>\n",
       "<table border=\"1\" class=\"dataframe\">\n",
       "  <thead>\n",
       "    <tr style=\"text-align: right;\">\n",
       "      <th></th>\n",
       "      <th>이름</th>\n",
       "      <th>나이</th>\n",
       "      <th>직업</th>\n",
       "    </tr>\n",
       "  </thead>\n",
       "  <tbody>\n",
       "    <tr>\n",
       "      <th>A</th>\n",
       "      <td>김수민</td>\n",
       "      <td>27</td>\n",
       "      <td>주유원</td>\n",
       "    </tr>\n",
       "    <tr>\n",
       "      <th>B</th>\n",
       "      <td>서정남</td>\n",
       "      <td>37</td>\n",
       "      <td>환경/청소 및 경비 관련 관리자</td>\n",
       "    </tr>\n",
       "    <tr>\n",
       "      <th>C</th>\n",
       "      <td>김영자</td>\n",
       "      <td>28</td>\n",
       "      <td>금속기계부품 조립원</td>\n",
       "    </tr>\n",
       "    <tr>\n",
       "      <th>D</th>\n",
       "      <td>김영일</td>\n",
       "      <td>36</td>\n",
       "      <td>기타 음식서비스 종사원</td>\n",
       "    </tr>\n",
       "    <tr>\n",
       "      <th>E</th>\n",
       "      <td>김재호</td>\n",
       "      <td>36</td>\n",
       "      <td>모피 및 가죽의복 제조원</td>\n",
       "    </tr>\n",
       "    <tr>\n",
       "      <th>F</th>\n",
       "      <td>김은서</td>\n",
       "      <td>44</td>\n",
       "      <td>선장/항해사 및 도선사</td>\n",
       "    </tr>\n",
       "    <tr>\n",
       "      <th>G</th>\n",
       "      <td>김지원</td>\n",
       "      <td>33</td>\n",
       "      <td>보험 심사원 및 사무원</td>\n",
       "    </tr>\n",
       "    <tr>\n",
       "      <th>H</th>\n",
       "      <td>이민지</td>\n",
       "      <td>50</td>\n",
       "      <td>웹 개발자</td>\n",
       "    </tr>\n",
       "    <tr>\n",
       "      <th>I</th>\n",
       "      <td>이미숙</td>\n",
       "      <td>26</td>\n",
       "      <td>주조원</td>\n",
       "    </tr>\n",
       "    <tr>\n",
       "      <th>J</th>\n",
       "      <td>홍예준</td>\n",
       "      <td>48</td>\n",
       "      <td>감독 및 기술감독</td>\n",
       "    </tr>\n",
       "  </tbody>\n",
       "</table>\n",
       "</div>"
      ],
      "text/plain": [
       "    이름  나이                 직업\n",
       "A  김수민  27                주유원\n",
       "B  서정남  37  환경/청소 및 경비 관련 관리자\n",
       "C  김영자  28         금속기계부품 조립원\n",
       "D  김영일  36       기타 음식서비스 종사원\n",
       "E  김재호  36      모피 및 가죽의복 제조원\n",
       "F  김은서  44       선장/항해사 및 도선사\n",
       "G  김지원  33       보험 심사원 및 사무원\n",
       "H  이민지  50              웹 개발자\n",
       "I  이미숙  26                주조원\n",
       "J  홍예준  48          감독 및 기술감독"
      ]
     },
     "execution_count": 98,
     "metadata": {},
     "output_type": "execute_result"
    }
   ],
   "source": [
    "df2 = pd.DataFrame(df_dict)\n",
    "df2"
   ]
  },
  {
   "cell_type": "code",
   "execution_count": 100,
   "id": "723738bd",
   "metadata": {},
   "outputs": [
    {
     "data": {
      "text/html": [
       "<div>\n",
       "<style scoped>\n",
       "    .dataframe tbody tr th:only-of-type {\n",
       "        vertical-align: middle;\n",
       "    }\n",
       "\n",
       "    .dataframe tbody tr th {\n",
       "        vertical-align: top;\n",
       "    }\n",
       "\n",
       "    .dataframe thead th {\n",
       "        text-align: right;\n",
       "    }\n",
       "</style>\n",
       "<table border=\"1\" class=\"dataframe\">\n",
       "  <thead>\n",
       "    <tr style=\"text-align: right;\">\n",
       "      <th></th>\n",
       "      <th>이름</th>\n",
       "      <th>나이</th>\n",
       "      <th>직업</th>\n",
       "    </tr>\n",
       "  </thead>\n",
       "  <tbody>\n",
       "    <tr>\n",
       "      <th>A</th>\n",
       "      <td>True</td>\n",
       "      <td>True</td>\n",
       "      <td>True</td>\n",
       "    </tr>\n",
       "    <tr>\n",
       "      <th>B</th>\n",
       "      <td>True</td>\n",
       "      <td>True</td>\n",
       "      <td>True</td>\n",
       "    </tr>\n",
       "    <tr>\n",
       "      <th>C</th>\n",
       "      <td>True</td>\n",
       "      <td>True</td>\n",
       "      <td>True</td>\n",
       "    </tr>\n",
       "    <tr>\n",
       "      <th>D</th>\n",
       "      <td>True</td>\n",
       "      <td>True</td>\n",
       "      <td>True</td>\n",
       "    </tr>\n",
       "    <tr>\n",
       "      <th>E</th>\n",
       "      <td>True</td>\n",
       "      <td>True</td>\n",
       "      <td>True</td>\n",
       "    </tr>\n",
       "    <tr>\n",
       "      <th>F</th>\n",
       "      <td>True</td>\n",
       "      <td>True</td>\n",
       "      <td>True</td>\n",
       "    </tr>\n",
       "    <tr>\n",
       "      <th>G</th>\n",
       "      <td>True</td>\n",
       "      <td>True</td>\n",
       "      <td>True</td>\n",
       "    </tr>\n",
       "    <tr>\n",
       "      <th>H</th>\n",
       "      <td>True</td>\n",
       "      <td>True</td>\n",
       "      <td>True</td>\n",
       "    </tr>\n",
       "    <tr>\n",
       "      <th>I</th>\n",
       "      <td>True</td>\n",
       "      <td>True</td>\n",
       "      <td>True</td>\n",
       "    </tr>\n",
       "    <tr>\n",
       "      <th>J</th>\n",
       "      <td>True</td>\n",
       "      <td>True</td>\n",
       "      <td>True</td>\n",
       "    </tr>\n",
       "  </tbody>\n",
       "</table>\n",
       "</div>"
      ],
      "text/plain": [
       "     이름    나이    직업\n",
       "A  True  True  True\n",
       "B  True  True  True\n",
       "C  True  True  True\n",
       "D  True  True  True\n",
       "E  True  True  True\n",
       "F  True  True  True\n",
       "G  True  True  True\n",
       "H  True  True  True\n",
       "I  True  True  True\n",
       "J  True  True  True"
      ]
     },
     "execution_count": 100,
     "metadata": {},
     "output_type": "execute_result"
    }
   ],
   "source": [
    "df1['직업'] = jobs\n",
    "df1 == df2"
   ]
  },
  {
   "cell_type": "markdown",
   "id": "8a0d9d69",
   "metadata": {},
   "source": [
    "---\n",
    "## **DataFrame 인덱싱과 슬라이싱**"
   ]
  },
  {
   "cell_type": "code",
   "execution_count": 101,
   "id": "ad1441c1",
   "metadata": {},
   "outputs": [
    {
     "data": {
      "text/plain": [
       "A    27\n",
       "B    37\n",
       "C    28\n",
       "D    36\n",
       "E    36\n",
       "F    44\n",
       "G    33\n",
       "H    50\n",
       "I    26\n",
       "J    48\n",
       "Name: 나이, dtype: int64"
      ]
     },
     "execution_count": 101,
     "metadata": {},
     "output_type": "execute_result"
    }
   ],
   "source": [
    "df2['나이']"
   ]
  },
  {
   "cell_type": "code",
   "execution_count": 103,
   "id": "7cd52ae0",
   "metadata": {},
   "outputs": [
    {
     "data": {
      "text/plain": [
       "27"
      ]
     },
     "execution_count": 103,
     "metadata": {},
     "output_type": "execute_result"
    }
   ],
   "source": [
    "df2['나이']['A']"
   ]
  },
  {
   "cell_type": "code",
   "execution_count": 104,
   "id": "8b23e956",
   "metadata": {},
   "outputs": [
    {
     "data": {
      "text/plain": [
       "이름    김수민\n",
       "나이     27\n",
       "직업    주유원\n",
       "Name: A, dtype: object"
      ]
     },
     "execution_count": 104,
     "metadata": {},
     "output_type": "execute_result"
    }
   ],
   "source": [
    "df2.loc['A']"
   ]
  },
  {
   "cell_type": "code",
   "execution_count": 105,
   "id": "7ad5dee8",
   "metadata": {},
   "outputs": [
    {
     "data": {
      "text/plain": [
       "이름             김영일\n",
       "나이              36\n",
       "직업    기타 음식서비스 종사원\n",
       "Name: D, dtype: object"
      ]
     },
     "execution_count": 105,
     "metadata": {},
     "output_type": "execute_result"
    }
   ],
   "source": [
    "df2.iloc[3]"
   ]
  },
  {
   "cell_type": "code",
   "execution_count": 107,
   "id": "1fba4c71",
   "metadata": {},
   "outputs": [
    {
     "data": {
      "text/plain": [
       "A    27\n",
       "B    37\n",
       "C    28\n",
       "D    36\n",
       "E    36\n",
       "F    44\n",
       "G    33\n",
       "H    50\n",
       "I    26\n",
       "J    48\n",
       "Name: 나이, dtype: int64"
      ]
     },
     "execution_count": 107,
     "metadata": {},
     "output_type": "execute_result"
    }
   ],
   "source": [
    "df2.loc[:, '나이']"
   ]
  },
  {
   "cell_type": "code",
   "execution_count": 108,
   "id": "6c71607d",
   "metadata": {},
   "outputs": [
    {
     "data": {
      "text/plain": [
       "A    27\n",
       "B    37\n",
       "C    28\n",
       "D    36\n",
       "E    36\n",
       "F    44\n",
       "Name: 나이, dtype: int64"
      ]
     },
     "execution_count": 108,
     "metadata": {},
     "output_type": "execute_result"
    }
   ],
   "source": [
    "df2.loc['A':'F', '나이']"
   ]
  },
  {
   "cell_type": "code",
   "execution_count": 111,
   "id": "5c53101a",
   "metadata": {},
   "outputs": [
    {
     "data": {
      "text/plain": [
       "B    환경/청소 및 경비 관련 관리자\n",
       "C           금속기계부품 조립원\n",
       "D         기타 음식서비스 종사원\n",
       "Name: 직업, dtype: object"
      ]
     },
     "execution_count": 111,
     "metadata": {},
     "output_type": "execute_result"
    }
   ],
   "source": [
    "df2.iloc[1:4, 2]"
   ]
  },
  {
   "cell_type": "code",
   "execution_count": 114,
   "id": "6df47cf9",
   "metadata": {},
   "outputs": [
    {
     "data": {
      "text/plain": [
       "A    27\n",
       "B    37\n",
       "C    28\n",
       "D    36\n",
       "E    36\n",
       "F    44\n",
       "G    33\n",
       "H    50\n",
       "I    26\n",
       "J    48\n",
       "Name: 나이, dtype: int64"
      ]
     },
     "execution_count": 114,
     "metadata": {},
     "output_type": "execute_result"
    }
   ],
   "source": [
    "df2.나이"
   ]
  },
  {
   "cell_type": "code",
   "execution_count": 117,
   "id": "bc7cb980",
   "metadata": {},
   "outputs": [
    {
     "data": {
      "text/plain": [
       "A    False\n",
       "B    False\n",
       "C    False\n",
       "D    False\n",
       "E    False\n",
       "F     True\n",
       "G    False\n",
       "H     True\n",
       "I    False\n",
       "J     True\n",
       "Name: 나이, dtype: bool"
      ]
     },
     "execution_count": 117,
     "metadata": {},
     "output_type": "execute_result"
    }
   ],
   "source": [
    "age_ablove_40 = df2['나이'] > 40\n",
    "age_ablove_40\n"
   ]
  },
  {
   "cell_type": "code",
   "execution_count": 118,
   "id": "35babd3a",
   "metadata": {},
   "outputs": [
    {
     "data": {
      "text/html": [
       "<div>\n",
       "<style scoped>\n",
       "    .dataframe tbody tr th:only-of-type {\n",
       "        vertical-align: middle;\n",
       "    }\n",
       "\n",
       "    .dataframe tbody tr th {\n",
       "        vertical-align: top;\n",
       "    }\n",
       "\n",
       "    .dataframe thead th {\n",
       "        text-align: right;\n",
       "    }\n",
       "</style>\n",
       "<table border=\"1\" class=\"dataframe\">\n",
       "  <thead>\n",
       "    <tr style=\"text-align: right;\">\n",
       "      <th></th>\n",
       "      <th>이름</th>\n",
       "      <th>나이</th>\n",
       "      <th>직업</th>\n",
       "    </tr>\n",
       "  </thead>\n",
       "  <tbody>\n",
       "    <tr>\n",
       "      <th>F</th>\n",
       "      <td>김은서</td>\n",
       "      <td>44</td>\n",
       "      <td>선장/항해사 및 도선사</td>\n",
       "    </tr>\n",
       "    <tr>\n",
       "      <th>H</th>\n",
       "      <td>이민지</td>\n",
       "      <td>50</td>\n",
       "      <td>웹 개발자</td>\n",
       "    </tr>\n",
       "    <tr>\n",
       "      <th>J</th>\n",
       "      <td>홍예준</td>\n",
       "      <td>48</td>\n",
       "      <td>감독 및 기술감독</td>\n",
       "    </tr>\n",
       "  </tbody>\n",
       "</table>\n",
       "</div>"
      ],
      "text/plain": [
       "    이름  나이            직업\n",
       "F  김은서  44  선장/항해사 및 도선사\n",
       "H  이민지  50         웹 개발자\n",
       "J  홍예준  48     감독 및 기술감독"
      ]
     },
     "execution_count": 118,
     "metadata": {},
     "output_type": "execute_result"
    }
   ],
   "source": [
    "df2[age_ablove_40]"
   ]
  },
  {
   "cell_type": "code",
   "execution_count": 119,
   "id": "c308e936",
   "metadata": {},
   "outputs": [
    {
     "data": {
      "text/plain": [
       "A    False\n",
       "B    False\n",
       "C    False\n",
       "D    False\n",
       "E    False\n",
       "F    False\n",
       "G    False\n",
       "H     True\n",
       "I    False\n",
       "J    False\n",
       "Name: 직업, dtype: bool"
      ]
     },
     "execution_count": 119,
     "metadata": {},
     "output_type": "execute_result"
    }
   ],
   "source": [
    "df2['직업'] == '웹 개발자'"
   ]
  },
  {
   "cell_type": "code",
   "execution_count": 120,
   "id": "f4286d49",
   "metadata": {},
   "outputs": [
    {
     "data": {
      "text/html": [
       "<div>\n",
       "<style scoped>\n",
       "    .dataframe tbody tr th:only-of-type {\n",
       "        vertical-align: middle;\n",
       "    }\n",
       "\n",
       "    .dataframe tbody tr th {\n",
       "        vertical-align: top;\n",
       "    }\n",
       "\n",
       "    .dataframe thead th {\n",
       "        text-align: right;\n",
       "    }\n",
       "</style>\n",
       "<table border=\"1\" class=\"dataframe\">\n",
       "  <thead>\n",
       "    <tr style=\"text-align: right;\">\n",
       "      <th></th>\n",
       "      <th>이름</th>\n",
       "      <th>나이</th>\n",
       "      <th>직업</th>\n",
       "    </tr>\n",
       "  </thead>\n",
       "  <tbody>\n",
       "    <tr>\n",
       "      <th>H</th>\n",
       "      <td>이민지</td>\n",
       "      <td>50</td>\n",
       "      <td>웹 개발자</td>\n",
       "    </tr>\n",
       "  </tbody>\n",
       "</table>\n",
       "</div>"
      ],
      "text/plain": [
       "    이름  나이     직업\n",
       "H  이민지  50  웹 개발자"
      ]
     },
     "execution_count": 120,
     "metadata": {},
     "output_type": "execute_result"
    }
   ],
   "source": [
    "df2[df2['직업'] == '웹 개발자']"
   ]
  },
  {
   "cell_type": "code",
   "execution_count": 121,
   "id": "31d41654",
   "metadata": {},
   "outputs": [
    {
     "data": {
      "text/plain": [
       "A    False\n",
       "B     True\n",
       "C    False\n",
       "D    False\n",
       "E    False\n",
       "F    False\n",
       "G    False\n",
       "H    False\n",
       "I    False\n",
       "J    False\n",
       "Name: 이름, dtype: bool"
      ]
     },
     "execution_count": 121,
     "metadata": {},
     "output_type": "execute_result"
    }
   ],
   "source": [
    "ns == '서정남'"
   ]
  },
  {
   "cell_type": "code",
   "execution_count": 122,
   "id": "db441415",
   "metadata": {},
   "outputs": [
    {
     "data": {
      "text/html": [
       "<div>\n",
       "<style scoped>\n",
       "    .dataframe tbody tr th:only-of-type {\n",
       "        vertical-align: middle;\n",
       "    }\n",
       "\n",
       "    .dataframe tbody tr th {\n",
       "        vertical-align: top;\n",
       "    }\n",
       "\n",
       "    .dataframe thead th {\n",
       "        text-align: right;\n",
       "    }\n",
       "</style>\n",
       "<table border=\"1\" class=\"dataframe\">\n",
       "  <thead>\n",
       "    <tr style=\"text-align: right;\">\n",
       "      <th></th>\n",
       "      <th>이름</th>\n",
       "      <th>나이</th>\n",
       "      <th>직업</th>\n",
       "    </tr>\n",
       "  </thead>\n",
       "  <tbody>\n",
       "    <tr>\n",
       "      <th>B</th>\n",
       "      <td>서정남</td>\n",
       "      <td>37</td>\n",
       "      <td>환경/청소 및 경비 관련 관리자</td>\n",
       "    </tr>\n",
       "  </tbody>\n",
       "</table>\n",
       "</div>"
      ],
      "text/plain": [
       "    이름  나이                 직업\n",
       "B  서정남  37  환경/청소 및 경비 관련 관리자"
      ]
     },
     "execution_count": 122,
     "metadata": {},
     "output_type": "execute_result"
    }
   ],
   "source": [
    "df2[ns == '서정남']"
   ]
  },
  {
   "cell_type": "code",
   "execution_count": 124,
   "id": "e90918b9",
   "metadata": {},
   "outputs": [
    {
     "data": {
      "text/plain": [
       "A                  주유원\n",
       "B    환경/청소 및 경비 관련 관리자\n",
       "C           금속기계부품 조립원\n",
       "D         기타 음식서비스 종사원\n",
       "E        모피 및 가죽의복 제조원\n",
       "F         선장/항해사 및 도선사\n",
       "G         보험 심사원 및 사무원\n",
       "H                웹 개발자\n",
       "I                  주조원\n",
       "J            감독 및 기술감독\n",
       "Name: 직업, dtype: object"
      ]
     },
     "execution_count": 124,
     "metadata": {},
     "output_type": "execute_result"
    }
   ],
   "source": [
    "df2['직업']"
   ]
  },
  {
   "cell_type": "code",
   "execution_count": 123,
   "id": "662359fe",
   "metadata": {},
   "outputs": [
    {
     "data": {
      "text/html": [
       "<div>\n",
       "<style scoped>\n",
       "    .dataframe tbody tr th:only-of-type {\n",
       "        vertical-align: middle;\n",
       "    }\n",
       "\n",
       "    .dataframe tbody tr th {\n",
       "        vertical-align: top;\n",
       "    }\n",
       "\n",
       "    .dataframe thead th {\n",
       "        text-align: right;\n",
       "    }\n",
       "</style>\n",
       "<table border=\"1\" class=\"dataframe\">\n",
       "  <thead>\n",
       "    <tr style=\"text-align: right;\">\n",
       "      <th></th>\n",
       "      <th>직업</th>\n",
       "    </tr>\n",
       "  </thead>\n",
       "  <tbody>\n",
       "    <tr>\n",
       "      <th>A</th>\n",
       "      <td>주유원</td>\n",
       "    </tr>\n",
       "    <tr>\n",
       "      <th>B</th>\n",
       "      <td>환경/청소 및 경비 관련 관리자</td>\n",
       "    </tr>\n",
       "    <tr>\n",
       "      <th>C</th>\n",
       "      <td>금속기계부품 조립원</td>\n",
       "    </tr>\n",
       "    <tr>\n",
       "      <th>D</th>\n",
       "      <td>기타 음식서비스 종사원</td>\n",
       "    </tr>\n",
       "    <tr>\n",
       "      <th>E</th>\n",
       "      <td>모피 및 가죽의복 제조원</td>\n",
       "    </tr>\n",
       "    <tr>\n",
       "      <th>F</th>\n",
       "      <td>선장/항해사 및 도선사</td>\n",
       "    </tr>\n",
       "    <tr>\n",
       "      <th>G</th>\n",
       "      <td>보험 심사원 및 사무원</td>\n",
       "    </tr>\n",
       "    <tr>\n",
       "      <th>H</th>\n",
       "      <td>웹 개발자</td>\n",
       "    </tr>\n",
       "    <tr>\n",
       "      <th>I</th>\n",
       "      <td>주조원</td>\n",
       "    </tr>\n",
       "    <tr>\n",
       "      <th>J</th>\n",
       "      <td>감독 및 기술감독</td>\n",
       "    </tr>\n",
       "  </tbody>\n",
       "</table>\n",
       "</div>"
      ],
      "text/plain": [
       "                  직업\n",
       "A                주유원\n",
       "B  환경/청소 및 경비 관련 관리자\n",
       "C         금속기계부품 조립원\n",
       "D       기타 음식서비스 종사원\n",
       "E      모피 및 가죽의복 제조원\n",
       "F       선장/항해사 및 도선사\n",
       "G       보험 심사원 및 사무원\n",
       "H              웹 개발자\n",
       "I                주조원\n",
       "J          감독 및 기술감독"
      ]
     },
     "execution_count": 123,
     "metadata": {},
     "output_type": "execute_result"
    }
   ],
   "source": [
    "df2[['직업']]"
   ]
  },
  {
   "cell_type": "code",
   "execution_count": 126,
   "id": "2becf451",
   "metadata": {},
   "outputs": [
    {
     "name": "stdout",
     "output_type": "stream",
     "text": [
      "<class 'pandas.core.series.Series'>\n",
      "<class 'pandas.core.frame.DataFrame'>\n"
     ]
    }
   ],
   "source": [
    "print(type(df2['직업']))\n",
    "print(type(df2[['직업']]))"
   ]
  },
  {
   "cell_type": "code",
   "execution_count": 127,
   "id": "794818de",
   "metadata": {},
   "outputs": [
    {
     "data": {
      "text/html": [
       "<div>\n",
       "<style scoped>\n",
       "    .dataframe tbody tr th:only-of-type {\n",
       "        vertical-align: middle;\n",
       "    }\n",
       "\n",
       "    .dataframe tbody tr th {\n",
       "        vertical-align: top;\n",
       "    }\n",
       "\n",
       "    .dataframe thead th {\n",
       "        text-align: right;\n",
       "    }\n",
       "</style>\n",
       "<table border=\"1\" class=\"dataframe\">\n",
       "  <thead>\n",
       "    <tr style=\"text-align: right;\">\n",
       "      <th></th>\n",
       "      <th>직업</th>\n",
       "      <th>나이</th>\n",
       "    </tr>\n",
       "  </thead>\n",
       "  <tbody>\n",
       "    <tr>\n",
       "      <th>A</th>\n",
       "      <td>주유원</td>\n",
       "      <td>27</td>\n",
       "    </tr>\n",
       "    <tr>\n",
       "      <th>B</th>\n",
       "      <td>환경/청소 및 경비 관련 관리자</td>\n",
       "      <td>37</td>\n",
       "    </tr>\n",
       "    <tr>\n",
       "      <th>C</th>\n",
       "      <td>금속기계부품 조립원</td>\n",
       "      <td>28</td>\n",
       "    </tr>\n",
       "    <tr>\n",
       "      <th>D</th>\n",
       "      <td>기타 음식서비스 종사원</td>\n",
       "      <td>36</td>\n",
       "    </tr>\n",
       "    <tr>\n",
       "      <th>E</th>\n",
       "      <td>모피 및 가죽의복 제조원</td>\n",
       "      <td>36</td>\n",
       "    </tr>\n",
       "    <tr>\n",
       "      <th>F</th>\n",
       "      <td>선장/항해사 및 도선사</td>\n",
       "      <td>44</td>\n",
       "    </tr>\n",
       "    <tr>\n",
       "      <th>G</th>\n",
       "      <td>보험 심사원 및 사무원</td>\n",
       "      <td>33</td>\n",
       "    </tr>\n",
       "    <tr>\n",
       "      <th>H</th>\n",
       "      <td>웹 개발자</td>\n",
       "      <td>50</td>\n",
       "    </tr>\n",
       "    <tr>\n",
       "      <th>I</th>\n",
       "      <td>주조원</td>\n",
       "      <td>26</td>\n",
       "    </tr>\n",
       "    <tr>\n",
       "      <th>J</th>\n",
       "      <td>감독 및 기술감독</td>\n",
       "      <td>48</td>\n",
       "    </tr>\n",
       "  </tbody>\n",
       "</table>\n",
       "</div>"
      ],
      "text/plain": [
       "                  직업  나이\n",
       "A                주유원  27\n",
       "B  환경/청소 및 경비 관련 관리자  37\n",
       "C         금속기계부품 조립원  28\n",
       "D       기타 음식서비스 종사원  36\n",
       "E      모피 및 가죽의복 제조원  36\n",
       "F       선장/항해사 및 도선사  44\n",
       "G       보험 심사원 및 사무원  33\n",
       "H              웹 개발자  50\n",
       "I                주조원  26\n",
       "J          감독 및 기술감독  48"
      ]
     },
     "execution_count": 127,
     "metadata": {},
     "output_type": "execute_result"
    }
   ],
   "source": [
    "df3 = df2[['직업', '나이']]\n",
    "df3"
   ]
  },
  {
   "cell_type": "markdown",
   "id": "13935c39",
   "metadata": {},
   "source": [
    "---\n",
    "## **DataFrame 속성**"
   ]
  },
  {
   "cell_type": "code",
   "execution_count": 128,
   "id": "9109faa0",
   "metadata": {},
   "outputs": [
    {
     "data": {
      "text/html": [
       "<div>\n",
       "<style scoped>\n",
       "    .dataframe tbody tr th:only-of-type {\n",
       "        vertical-align: middle;\n",
       "    }\n",
       "\n",
       "    .dataframe tbody tr th {\n",
       "        vertical-align: top;\n",
       "    }\n",
       "\n",
       "    .dataframe thead th {\n",
       "        text-align: right;\n",
       "    }\n",
       "</style>\n",
       "<table border=\"1\" class=\"dataframe\">\n",
       "  <thead>\n",
       "    <tr style=\"text-align: right;\">\n",
       "      <th></th>\n",
       "      <th>이름</th>\n",
       "      <th>나이</th>\n",
       "      <th>직업</th>\n",
       "    </tr>\n",
       "  </thead>\n",
       "  <tbody>\n",
       "    <tr>\n",
       "      <th>A</th>\n",
       "      <td>김수민</td>\n",
       "      <td>27</td>\n",
       "      <td>주유원</td>\n",
       "    </tr>\n",
       "    <tr>\n",
       "      <th>B</th>\n",
       "      <td>서정남</td>\n",
       "      <td>37</td>\n",
       "      <td>환경/청소 및 경비 관련 관리자</td>\n",
       "    </tr>\n",
       "    <tr>\n",
       "      <th>C</th>\n",
       "      <td>김영자</td>\n",
       "      <td>28</td>\n",
       "      <td>금속기계부품 조립원</td>\n",
       "    </tr>\n",
       "    <tr>\n",
       "      <th>D</th>\n",
       "      <td>김영일</td>\n",
       "      <td>36</td>\n",
       "      <td>기타 음식서비스 종사원</td>\n",
       "    </tr>\n",
       "    <tr>\n",
       "      <th>E</th>\n",
       "      <td>김재호</td>\n",
       "      <td>36</td>\n",
       "      <td>모피 및 가죽의복 제조원</td>\n",
       "    </tr>\n",
       "    <tr>\n",
       "      <th>F</th>\n",
       "      <td>김은서</td>\n",
       "      <td>44</td>\n",
       "      <td>선장/항해사 및 도선사</td>\n",
       "    </tr>\n",
       "    <tr>\n",
       "      <th>G</th>\n",
       "      <td>김지원</td>\n",
       "      <td>33</td>\n",
       "      <td>보험 심사원 및 사무원</td>\n",
       "    </tr>\n",
       "    <tr>\n",
       "      <th>H</th>\n",
       "      <td>이민지</td>\n",
       "      <td>50</td>\n",
       "      <td>웹 개발자</td>\n",
       "    </tr>\n",
       "    <tr>\n",
       "      <th>I</th>\n",
       "      <td>이미숙</td>\n",
       "      <td>26</td>\n",
       "      <td>주조원</td>\n",
       "    </tr>\n",
       "    <tr>\n",
       "      <th>J</th>\n",
       "      <td>홍예준</td>\n",
       "      <td>48</td>\n",
       "      <td>감독 및 기술감독</td>\n",
       "    </tr>\n",
       "  </tbody>\n",
       "</table>\n",
       "</div>"
      ],
      "text/plain": [
       "    이름  나이                 직업\n",
       "A  김수민  27                주유원\n",
       "B  서정남  37  환경/청소 및 경비 관련 관리자\n",
       "C  김영자  28         금속기계부품 조립원\n",
       "D  김영일  36       기타 음식서비스 종사원\n",
       "E  김재호  36      모피 및 가죽의복 제조원\n",
       "F  김은서  44       선장/항해사 및 도선사\n",
       "G  김지원  33       보험 심사원 및 사무원\n",
       "H  이민지  50              웹 개발자\n",
       "I  이미숙  26                주조원\n",
       "J  홍예준  48          감독 및 기술감독"
      ]
     },
     "execution_count": 128,
     "metadata": {},
     "output_type": "execute_result"
    }
   ],
   "source": [
    "df2"
   ]
  },
  {
   "cell_type": "code",
   "execution_count": 129,
   "id": "c595e2eb",
   "metadata": {},
   "outputs": [
    {
     "data": {
      "text/plain": [
       "Index(['A', 'B', 'C', 'D', 'E', 'F', 'G', 'H', 'I', 'J'], dtype='object')"
      ]
     },
     "execution_count": 129,
     "metadata": {},
     "output_type": "execute_result"
    }
   ],
   "source": [
    "df2.index"
   ]
  },
  {
   "cell_type": "code",
   "execution_count": 130,
   "id": "8aaa9cdc",
   "metadata": {},
   "outputs": [
    {
     "data": {
      "text/plain": [
       "Index(['이름', '나이', '직업'], dtype='object')"
      ]
     },
     "execution_count": 130,
     "metadata": {},
     "output_type": "execute_result"
    }
   ],
   "source": [
    "df2.columns"
   ]
  },
  {
   "cell_type": "code",
   "execution_count": 131,
   "id": "a15aa795",
   "metadata": {},
   "outputs": [
    {
     "data": {
      "text/plain": [
       "array([['김수민', 27, '주유원'],\n",
       "       ['서정남', 37, '환경/청소 및 경비 관련 관리자'],\n",
       "       ['김영자', 28, '금속기계부품 조립원'],\n",
       "       ['김영일', 36, '기타 음식서비스 종사원'],\n",
       "       ['김재호', 36, '모피 및 가죽의복 제조원'],\n",
       "       ['김은서', 44, '선장/항해사 및 도선사'],\n",
       "       ['김지원', 33, '보험 심사원 및 사무원'],\n",
       "       ['이민지', 50, '웹 개발자'],\n",
       "       ['이미숙', 26, '주조원'],\n",
       "       ['홍예준', 48, '감독 및 기술감독']], dtype=object)"
      ]
     },
     "execution_count": 131,
     "metadata": {},
     "output_type": "execute_result"
    }
   ],
   "source": [
    "df2.values"
   ]
  },
  {
   "cell_type": "code",
   "execution_count": 134,
   "id": "105e58e4",
   "metadata": {},
   "outputs": [
    {
     "data": {
      "text/plain": [
       "이름    object\n",
       "나이     int64\n",
       "직업    object\n",
       "dtype: object"
      ]
     },
     "execution_count": 134,
     "metadata": {},
     "output_type": "execute_result"
    }
   ],
   "source": [
    "df2.dtypes"
   ]
  },
  {
   "cell_type": "code",
   "execution_count": 135,
   "id": "0c61ff44",
   "metadata": {},
   "outputs": [
    {
     "data": {
      "text/plain": [
       "(10, 3)"
      ]
     },
     "execution_count": 135,
     "metadata": {},
     "output_type": "execute_result"
    }
   ],
   "source": [
    "df2.shape"
   ]
  },
  {
   "cell_type": "code",
   "execution_count": 136,
   "id": "da8178ae",
   "metadata": {},
   "outputs": [
    {
     "data": {
      "text/plain": [
       "30"
      ]
     },
     "execution_count": 136,
     "metadata": {},
     "output_type": "execute_result"
    }
   ],
   "source": [
    "df2.size"
   ]
  },
  {
   "cell_type": "code",
   "execution_count": 138,
   "id": "73afe40c",
   "metadata": {},
   "outputs": [
    {
     "data": {
      "text/html": [
       "<div>\n",
       "<style scoped>\n",
       "    .dataframe tbody tr th:only-of-type {\n",
       "        vertical-align: middle;\n",
       "    }\n",
       "\n",
       "    .dataframe tbody tr th {\n",
       "        vertical-align: top;\n",
       "    }\n",
       "\n",
       "    .dataframe thead th {\n",
       "        text-align: right;\n",
       "    }\n",
       "</style>\n",
       "<table border=\"1\" class=\"dataframe\">\n",
       "  <thead>\n",
       "    <tr style=\"text-align: right;\">\n",
       "      <th></th>\n",
       "      <th>A</th>\n",
       "      <th>B</th>\n",
       "      <th>C</th>\n",
       "      <th>D</th>\n",
       "      <th>E</th>\n",
       "      <th>F</th>\n",
       "      <th>G</th>\n",
       "      <th>H</th>\n",
       "      <th>I</th>\n",
       "      <th>J</th>\n",
       "    </tr>\n",
       "  </thead>\n",
       "  <tbody>\n",
       "    <tr>\n",
       "      <th>이름</th>\n",
       "      <td>김수민</td>\n",
       "      <td>서정남</td>\n",
       "      <td>김영자</td>\n",
       "      <td>김영일</td>\n",
       "      <td>김재호</td>\n",
       "      <td>김은서</td>\n",
       "      <td>김지원</td>\n",
       "      <td>이민지</td>\n",
       "      <td>이미숙</td>\n",
       "      <td>홍예준</td>\n",
       "    </tr>\n",
       "    <tr>\n",
       "      <th>나이</th>\n",
       "      <td>27</td>\n",
       "      <td>37</td>\n",
       "      <td>28</td>\n",
       "      <td>36</td>\n",
       "      <td>36</td>\n",
       "      <td>44</td>\n",
       "      <td>33</td>\n",
       "      <td>50</td>\n",
       "      <td>26</td>\n",
       "      <td>48</td>\n",
       "    </tr>\n",
       "    <tr>\n",
       "      <th>직업</th>\n",
       "      <td>주유원</td>\n",
       "      <td>환경/청소 및 경비 관련 관리자</td>\n",
       "      <td>금속기계부품 조립원</td>\n",
       "      <td>기타 음식서비스 종사원</td>\n",
       "      <td>모피 및 가죽의복 제조원</td>\n",
       "      <td>선장/항해사 및 도선사</td>\n",
       "      <td>보험 심사원 및 사무원</td>\n",
       "      <td>웹 개발자</td>\n",
       "      <td>주조원</td>\n",
       "      <td>감독 및 기술감독</td>\n",
       "    </tr>\n",
       "  </tbody>\n",
       "</table>\n",
       "</div>"
      ],
      "text/plain": [
       "      A                  B           C             D              E  \\\n",
       "이름  김수민                서정남         김영자           김영일            김재호   \n",
       "나이   27                 37          28            36             36   \n",
       "직업  주유원  환경/청소 및 경비 관련 관리자  금속기계부품 조립원  기타 음식서비스 종사원  모피 및 가죽의복 제조원   \n",
       "\n",
       "               F             G      H    I          J  \n",
       "이름           김은서           김지원    이민지  이미숙        홍예준  \n",
       "나이            44            33     50   26         48  \n",
       "직업  선장/항해사 및 도선사  보험 심사원 및 사무원  웹 개발자  주조원  감독 및 기술감독  "
      ]
     },
     "execution_count": 138,
     "metadata": {},
     "output_type": "execute_result"
    }
   ],
   "source": [
    "df2_T = df2.T\n",
    "df2_T"
   ]
  },
  {
   "cell_type": "code",
   "execution_count": 139,
   "id": "046e4e4e",
   "metadata": {},
   "outputs": [
    {
     "data": {
      "text/plain": [
       "A    김수민\n",
       "B    서정남\n",
       "C    김영자\n",
       "D    김영일\n",
       "E    김재호\n",
       "F    김은서\n",
       "G    김지원\n",
       "H    이민지\n",
       "I    이미숙\n",
       "J    홍예준\n",
       "Name: 이름, dtype: object"
      ]
     },
     "execution_count": 139,
     "metadata": {},
     "output_type": "execute_result"
    }
   ],
   "source": [
    "df2_T.loc['이름']"
   ]
  },
  {
   "cell_type": "code",
   "execution_count": 140,
   "id": "3d756a24",
   "metadata": {},
   "outputs": [
    {
     "data": {
      "text/plain": [
       "(3, 10)"
      ]
     },
     "execution_count": 140,
     "metadata": {},
     "output_type": "execute_result"
    }
   ],
   "source": [
    "df2_T.shape"
   ]
  },
  {
   "cell_type": "markdown",
   "id": "ff8ca126",
   "metadata": {},
   "source": [
    "---\n",
    "## **DataFrame 기능**"
   ]
  },
  {
   "cell_type": "code",
   "execution_count": 141,
   "id": "d3adc089",
   "metadata": {},
   "outputs": [
    {
     "data": {
      "text/html": [
       "<div>\n",
       "<style scoped>\n",
       "    .dataframe tbody tr th:only-of-type {\n",
       "        vertical-align: middle;\n",
       "    }\n",
       "\n",
       "    .dataframe tbody tr th {\n",
       "        vertical-align: top;\n",
       "    }\n",
       "\n",
       "    .dataframe thead th {\n",
       "        text-align: right;\n",
       "    }\n",
       "</style>\n",
       "<table border=\"1\" class=\"dataframe\">\n",
       "  <thead>\n",
       "    <tr style=\"text-align: right;\">\n",
       "      <th></th>\n",
       "      <th>이름</th>\n",
       "      <th>나이</th>\n",
       "      <th>직업</th>\n",
       "    </tr>\n",
       "  </thead>\n",
       "  <tbody>\n",
       "    <tr>\n",
       "      <th>A</th>\n",
       "      <td>김수민</td>\n",
       "      <td>27</td>\n",
       "      <td>주유원</td>\n",
       "    </tr>\n",
       "    <tr>\n",
       "      <th>B</th>\n",
       "      <td>서정남</td>\n",
       "      <td>37</td>\n",
       "      <td>환경/청소 및 경비 관련 관리자</td>\n",
       "    </tr>\n",
       "    <tr>\n",
       "      <th>C</th>\n",
       "      <td>김영자</td>\n",
       "      <td>28</td>\n",
       "      <td>금속기계부품 조립원</td>\n",
       "    </tr>\n",
       "    <tr>\n",
       "      <th>D</th>\n",
       "      <td>김영일</td>\n",
       "      <td>36</td>\n",
       "      <td>기타 음식서비스 종사원</td>\n",
       "    </tr>\n",
       "    <tr>\n",
       "      <th>E</th>\n",
       "      <td>김재호</td>\n",
       "      <td>36</td>\n",
       "      <td>모피 및 가죽의복 제조원</td>\n",
       "    </tr>\n",
       "    <tr>\n",
       "      <th>F</th>\n",
       "      <td>김은서</td>\n",
       "      <td>44</td>\n",
       "      <td>선장/항해사 및 도선사</td>\n",
       "    </tr>\n",
       "    <tr>\n",
       "      <th>G</th>\n",
       "      <td>김지원</td>\n",
       "      <td>33</td>\n",
       "      <td>보험 심사원 및 사무원</td>\n",
       "    </tr>\n",
       "    <tr>\n",
       "      <th>H</th>\n",
       "      <td>이민지</td>\n",
       "      <td>50</td>\n",
       "      <td>웹 개발자</td>\n",
       "    </tr>\n",
       "    <tr>\n",
       "      <th>I</th>\n",
       "      <td>이미숙</td>\n",
       "      <td>26</td>\n",
       "      <td>주조원</td>\n",
       "    </tr>\n",
       "    <tr>\n",
       "      <th>J</th>\n",
       "      <td>홍예준</td>\n",
       "      <td>48</td>\n",
       "      <td>감독 및 기술감독</td>\n",
       "    </tr>\n",
       "  </tbody>\n",
       "</table>\n",
       "</div>"
      ],
      "text/plain": [
       "    이름  나이                 직업\n",
       "A  김수민  27                주유원\n",
       "B  서정남  37  환경/청소 및 경비 관련 관리자\n",
       "C  김영자  28         금속기계부품 조립원\n",
       "D  김영일  36       기타 음식서비스 종사원\n",
       "E  김재호  36      모피 및 가죽의복 제조원\n",
       "F  김은서  44       선장/항해사 및 도선사\n",
       "G  김지원  33       보험 심사원 및 사무원\n",
       "H  이민지  50              웹 개발자\n",
       "I  이미숙  26                주조원\n",
       "J  홍예준  48          감독 및 기술감독"
      ]
     },
     "execution_count": 141,
     "metadata": {},
     "output_type": "execute_result"
    }
   ],
   "source": [
    "df2"
   ]
  },
  {
   "cell_type": "code",
   "execution_count": 142,
   "id": "c426b864",
   "metadata": {},
   "outputs": [
    {
     "data": {
      "text/html": [
       "<div>\n",
       "<style scoped>\n",
       "    .dataframe tbody tr th:only-of-type {\n",
       "        vertical-align: middle;\n",
       "    }\n",
       "\n",
       "    .dataframe tbody tr th {\n",
       "        vertical-align: top;\n",
       "    }\n",
       "\n",
       "    .dataframe thead th {\n",
       "        text-align: right;\n",
       "    }\n",
       "</style>\n",
       "<table border=\"1\" class=\"dataframe\">\n",
       "  <thead>\n",
       "    <tr style=\"text-align: right;\">\n",
       "      <th></th>\n",
       "      <th>이름</th>\n",
       "      <th>나이</th>\n",
       "      <th>직업</th>\n",
       "    </tr>\n",
       "  </thead>\n",
       "  <tbody>\n",
       "    <tr>\n",
       "      <th>A</th>\n",
       "      <td>김수민</td>\n",
       "      <td>27</td>\n",
       "      <td>주유원</td>\n",
       "    </tr>\n",
       "    <tr>\n",
       "      <th>B</th>\n",
       "      <td>서정남</td>\n",
       "      <td>37</td>\n",
       "      <td>환경/청소 및 경비 관련 관리자</td>\n",
       "    </tr>\n",
       "    <tr>\n",
       "      <th>C</th>\n",
       "      <td>김영자</td>\n",
       "      <td>28</td>\n",
       "      <td>금속기계부품 조립원</td>\n",
       "    </tr>\n",
       "    <tr>\n",
       "      <th>D</th>\n",
       "      <td>김영일</td>\n",
       "      <td>36</td>\n",
       "      <td>기타 음식서비스 종사원</td>\n",
       "    </tr>\n",
       "    <tr>\n",
       "      <th>E</th>\n",
       "      <td>김재호</td>\n",
       "      <td>36</td>\n",
       "      <td>모피 및 가죽의복 제조원</td>\n",
       "    </tr>\n",
       "  </tbody>\n",
       "</table>\n",
       "</div>"
      ],
      "text/plain": [
       "    이름  나이                 직업\n",
       "A  김수민  27                주유원\n",
       "B  서정남  37  환경/청소 및 경비 관련 관리자\n",
       "C  김영자  28         금속기계부품 조립원\n",
       "D  김영일  36       기타 음식서비스 종사원\n",
       "E  김재호  36      모피 및 가죽의복 제조원"
      ]
     },
     "execution_count": 142,
     "metadata": {},
     "output_type": "execute_result"
    }
   ],
   "source": [
    "df2.head()"
   ]
  },
  {
   "cell_type": "code",
   "execution_count": 143,
   "id": "a49495ba",
   "metadata": {},
   "outputs": [
    {
     "data": {
      "text/html": [
       "<div>\n",
       "<style scoped>\n",
       "    .dataframe tbody tr th:only-of-type {\n",
       "        vertical-align: middle;\n",
       "    }\n",
       "\n",
       "    .dataframe tbody tr th {\n",
       "        vertical-align: top;\n",
       "    }\n",
       "\n",
       "    .dataframe thead th {\n",
       "        text-align: right;\n",
       "    }\n",
       "</style>\n",
       "<table border=\"1\" class=\"dataframe\">\n",
       "  <thead>\n",
       "    <tr style=\"text-align: right;\">\n",
       "      <th></th>\n",
       "      <th>나이</th>\n",
       "    </tr>\n",
       "  </thead>\n",
       "  <tbody>\n",
       "    <tr>\n",
       "      <th>count</th>\n",
       "      <td>10.000000</td>\n",
       "    </tr>\n",
       "    <tr>\n",
       "      <th>mean</th>\n",
       "      <td>36.500000</td>\n",
       "    </tr>\n",
       "    <tr>\n",
       "      <th>std</th>\n",
       "      <td>8.540752</td>\n",
       "    </tr>\n",
       "    <tr>\n",
       "      <th>min</th>\n",
       "      <td>26.000000</td>\n",
       "    </tr>\n",
       "    <tr>\n",
       "      <th>25%</th>\n",
       "      <td>29.250000</td>\n",
       "    </tr>\n",
       "    <tr>\n",
       "      <th>50%</th>\n",
       "      <td>36.000000</td>\n",
       "    </tr>\n",
       "    <tr>\n",
       "      <th>75%</th>\n",
       "      <td>42.250000</td>\n",
       "    </tr>\n",
       "    <tr>\n",
       "      <th>max</th>\n",
       "      <td>50.000000</td>\n",
       "    </tr>\n",
       "  </tbody>\n",
       "</table>\n",
       "</div>"
      ],
      "text/plain": [
       "              나이\n",
       "count  10.000000\n",
       "mean   36.500000\n",
       "std     8.540752\n",
       "min    26.000000\n",
       "25%    29.250000\n",
       "50%    36.000000\n",
       "75%    42.250000\n",
       "max    50.000000"
      ]
     },
     "execution_count": 143,
     "metadata": {},
     "output_type": "execute_result"
    }
   ],
   "source": [
    "df2.describe()"
   ]
  },
  {
   "cell_type": "code",
   "execution_count": 144,
   "id": "b5a97adf",
   "metadata": {},
   "outputs": [
    {
     "data": {
      "text/html": [
       "<div>\n",
       "<style scoped>\n",
       "    .dataframe tbody tr th:only-of-type {\n",
       "        vertical-align: middle;\n",
       "    }\n",
       "\n",
       "    .dataframe tbody tr th {\n",
       "        vertical-align: top;\n",
       "    }\n",
       "\n",
       "    .dataframe thead th {\n",
       "        text-align: right;\n",
       "    }\n",
       "</style>\n",
       "<table border=\"1\" class=\"dataframe\">\n",
       "  <thead>\n",
       "    <tr style=\"text-align: right;\">\n",
       "      <th></th>\n",
       "      <th>이름</th>\n",
       "      <th>나이</th>\n",
       "      <th>직업</th>\n",
       "    </tr>\n",
       "  </thead>\n",
       "  <tbody>\n",
       "    <tr>\n",
       "      <th>count</th>\n",
       "      <td>10</td>\n",
       "      <td>10.000000</td>\n",
       "      <td>10</td>\n",
       "    </tr>\n",
       "    <tr>\n",
       "      <th>unique</th>\n",
       "      <td>10</td>\n",
       "      <td>NaN</td>\n",
       "      <td>10</td>\n",
       "    </tr>\n",
       "    <tr>\n",
       "      <th>top</th>\n",
       "      <td>김수민</td>\n",
       "      <td>NaN</td>\n",
       "      <td>주유원</td>\n",
       "    </tr>\n",
       "    <tr>\n",
       "      <th>freq</th>\n",
       "      <td>1</td>\n",
       "      <td>NaN</td>\n",
       "      <td>1</td>\n",
       "    </tr>\n",
       "    <tr>\n",
       "      <th>mean</th>\n",
       "      <td>NaN</td>\n",
       "      <td>36.500000</td>\n",
       "      <td>NaN</td>\n",
       "    </tr>\n",
       "    <tr>\n",
       "      <th>std</th>\n",
       "      <td>NaN</td>\n",
       "      <td>8.540752</td>\n",
       "      <td>NaN</td>\n",
       "    </tr>\n",
       "    <tr>\n",
       "      <th>min</th>\n",
       "      <td>NaN</td>\n",
       "      <td>26.000000</td>\n",
       "      <td>NaN</td>\n",
       "    </tr>\n",
       "    <tr>\n",
       "      <th>25%</th>\n",
       "      <td>NaN</td>\n",
       "      <td>29.250000</td>\n",
       "      <td>NaN</td>\n",
       "    </tr>\n",
       "    <tr>\n",
       "      <th>50%</th>\n",
       "      <td>NaN</td>\n",
       "      <td>36.000000</td>\n",
       "      <td>NaN</td>\n",
       "    </tr>\n",
       "    <tr>\n",
       "      <th>75%</th>\n",
       "      <td>NaN</td>\n",
       "      <td>42.250000</td>\n",
       "      <td>NaN</td>\n",
       "    </tr>\n",
       "    <tr>\n",
       "      <th>max</th>\n",
       "      <td>NaN</td>\n",
       "      <td>50.000000</td>\n",
       "      <td>NaN</td>\n",
       "    </tr>\n",
       "  </tbody>\n",
       "</table>\n",
       "</div>"
      ],
      "text/plain": [
       "         이름         나이   직업\n",
       "count    10  10.000000   10\n",
       "unique   10        NaN   10\n",
       "top     김수민        NaN  주유원\n",
       "freq      1        NaN    1\n",
       "mean    NaN  36.500000  NaN\n",
       "std     NaN   8.540752  NaN\n",
       "min     NaN  26.000000  NaN\n",
       "25%     NaN  29.250000  NaN\n",
       "50%     NaN  36.000000  NaN\n",
       "75%     NaN  42.250000  NaN\n",
       "max     NaN  50.000000  NaN"
      ]
     },
     "execution_count": 144,
     "metadata": {},
     "output_type": "execute_result"
    }
   ],
   "source": [
    "df2.describe(include='all')"
   ]
  },
  {
   "cell_type": "code",
   "execution_count": 146,
   "id": "755f8148",
   "metadata": {},
   "outputs": [
    {
     "name": "stderr",
     "output_type": "stream",
     "text": [
      "C:\\Users\\samsung\\AppData\\Local\\Temp\\ipykernel_15636\\2415257979.py:2: FutureWarning: ChainedAssignmentError: behaviour will change in pandas 3.0!\n",
      "You are setting values through chained assignment. Currently this works in certain cases, but when using Copy-on-Write (which will become the default behaviour in pandas 3.0) this will never work to update the original DataFrame or Series, because the intermediate object on which we are setting values will behave as a copy.\n",
      "A typical example is when you are setting values in a column of a DataFrame, like:\n",
      "\n",
      "df[\"col\"][row_indexer] = value\n",
      "\n",
      "Use `df.loc[row_indexer, \"col\"] = values` instead, to perform the assignment in a single step and ensure this keeps updating the original `df`.\n",
      "\n",
      "See the caveats in the documentation: https://pandas.pydata.org/pandas-docs/stable/user_guide/indexing.html#returning-a-view-versus-a-copy\n",
      "\n",
      "  df2['이름']['B'] = '김재호'\n",
      "C:\\Users\\samsung\\AppData\\Local\\Temp\\ipykernel_15636\\2415257979.py:2: SettingWithCopyWarning: \n",
      "A value is trying to be set on a copy of a slice from a DataFrame\n",
      "\n",
      "See the caveats in the documentation: https://pandas.pydata.org/pandas-docs/stable/user_guide/indexing.html#returning-a-view-versus-a-copy\n",
      "  df2['이름']['B'] = '김재호'\n"
     ]
    },
    {
     "data": {
      "text/html": [
       "<div>\n",
       "<style scoped>\n",
       "    .dataframe tbody tr th:only-of-type {\n",
       "        vertical-align: middle;\n",
       "    }\n",
       "\n",
       "    .dataframe tbody tr th {\n",
       "        vertical-align: top;\n",
       "    }\n",
       "\n",
       "    .dataframe thead th {\n",
       "        text-align: right;\n",
       "    }\n",
       "</style>\n",
       "<table border=\"1\" class=\"dataframe\">\n",
       "  <thead>\n",
       "    <tr style=\"text-align: right;\">\n",
       "      <th></th>\n",
       "      <th>이름</th>\n",
       "      <th>나이</th>\n",
       "      <th>직업</th>\n",
       "    </tr>\n",
       "  </thead>\n",
       "  <tbody>\n",
       "    <tr>\n",
       "      <th>A</th>\n",
       "      <td>김수민</td>\n",
       "      <td>27.0</td>\n",
       "      <td>주유원</td>\n",
       "    </tr>\n",
       "    <tr>\n",
       "      <th>B</th>\n",
       "      <td>김재호</td>\n",
       "      <td>37.0</td>\n",
       "      <td>환경/청소 및 경비 관련 관리자</td>\n",
       "    </tr>\n",
       "    <tr>\n",
       "      <th>C</th>\n",
       "      <td>김영자</td>\n",
       "      <td>28.0</td>\n",
       "      <td>금속기계부품 조립원</td>\n",
       "    </tr>\n",
       "    <tr>\n",
       "      <th>D</th>\n",
       "      <td>김영일</td>\n",
       "      <td>36.0</td>\n",
       "      <td>기타 음식서비스 종사원</td>\n",
       "    </tr>\n",
       "    <tr>\n",
       "      <th>E</th>\n",
       "      <td>김재호</td>\n",
       "      <td>36.0</td>\n",
       "      <td>모피 및 가죽의복 제조원</td>\n",
       "    </tr>\n",
       "    <tr>\n",
       "      <th>F</th>\n",
       "      <td>김은서</td>\n",
       "      <td>44.0</td>\n",
       "      <td>선장/항해사 및 도선사</td>\n",
       "    </tr>\n",
       "    <tr>\n",
       "      <th>G</th>\n",
       "      <td>김지원</td>\n",
       "      <td>33.0</td>\n",
       "      <td>보험 심사원 및 사무원</td>\n",
       "    </tr>\n",
       "    <tr>\n",
       "      <th>H</th>\n",
       "      <td>이민지</td>\n",
       "      <td>50.0</td>\n",
       "      <td>웹 개발자</td>\n",
       "    </tr>\n",
       "    <tr>\n",
       "      <th>I</th>\n",
       "      <td>이미숙</td>\n",
       "      <td>NaN</td>\n",
       "      <td>주조원</td>\n",
       "    </tr>\n",
       "    <tr>\n",
       "      <th>J</th>\n",
       "      <td>None</td>\n",
       "      <td>48.0</td>\n",
       "      <td>감독 및 기술감독</td>\n",
       "    </tr>\n",
       "  </tbody>\n",
       "</table>\n",
       "</div>"
      ],
      "text/plain": [
       "     이름    나이                 직업\n",
       "A   김수민  27.0                주유원\n",
       "B   김재호  37.0  환경/청소 및 경비 관련 관리자\n",
       "C   김영자  28.0         금속기계부품 조립원\n",
       "D   김영일  36.0       기타 음식서비스 종사원\n",
       "E   김재호  36.0      모피 및 가죽의복 제조원\n",
       "F   김은서  44.0       선장/항해사 및 도선사\n",
       "G   김지원  33.0       보험 심사원 및 사무원\n",
       "H   이민지  50.0              웹 개발자\n",
       "I   이미숙   NaN                주조원\n",
       "J  None  48.0          감독 및 기술감독"
      ]
     },
     "execution_count": 146,
     "metadata": {},
     "output_type": "execute_result"
    }
   ],
   "source": [
    "df2.loc['I', '나이'] = np.NaN\n",
    "df2['이름']['B'] = '김재호'\n",
    "df2.loc['J', '이름'] = None\n",
    "df2"
   ]
  },
  {
   "cell_type": "code",
   "execution_count": 147,
   "id": "e9b4475c",
   "metadata": {},
   "outputs": [
    {
     "data": {
      "text/html": [
       "<div>\n",
       "<style scoped>\n",
       "    .dataframe tbody tr th:only-of-type {\n",
       "        vertical-align: middle;\n",
       "    }\n",
       "\n",
       "    .dataframe tbody tr th {\n",
       "        vertical-align: top;\n",
       "    }\n",
       "\n",
       "    .dataframe thead th {\n",
       "        text-align: right;\n",
       "    }\n",
       "</style>\n",
       "<table border=\"1\" class=\"dataframe\">\n",
       "  <thead>\n",
       "    <tr style=\"text-align: right;\">\n",
       "      <th></th>\n",
       "      <th>이름</th>\n",
       "      <th>나이</th>\n",
       "      <th>직업</th>\n",
       "    </tr>\n",
       "  </thead>\n",
       "  <tbody>\n",
       "    <tr>\n",
       "      <th>count</th>\n",
       "      <td>9</td>\n",
       "      <td>9.000000</td>\n",
       "      <td>10</td>\n",
       "    </tr>\n",
       "    <tr>\n",
       "      <th>unique</th>\n",
       "      <td>8</td>\n",
       "      <td>NaN</td>\n",
       "      <td>10</td>\n",
       "    </tr>\n",
       "    <tr>\n",
       "      <th>top</th>\n",
       "      <td>김재호</td>\n",
       "      <td>NaN</td>\n",
       "      <td>주유원</td>\n",
       "    </tr>\n",
       "    <tr>\n",
       "      <th>freq</th>\n",
       "      <td>2</td>\n",
       "      <td>NaN</td>\n",
       "      <td>1</td>\n",
       "    </tr>\n",
       "    <tr>\n",
       "      <th>mean</th>\n",
       "      <td>NaN</td>\n",
       "      <td>37.666667</td>\n",
       "      <td>NaN</td>\n",
       "    </tr>\n",
       "    <tr>\n",
       "      <th>std</th>\n",
       "      <td>NaN</td>\n",
       "      <td>8.170067</td>\n",
       "      <td>NaN</td>\n",
       "    </tr>\n",
       "    <tr>\n",
       "      <th>min</th>\n",
       "      <td>NaN</td>\n",
       "      <td>27.000000</td>\n",
       "      <td>NaN</td>\n",
       "    </tr>\n",
       "    <tr>\n",
       "      <th>25%</th>\n",
       "      <td>NaN</td>\n",
       "      <td>33.000000</td>\n",
       "      <td>NaN</td>\n",
       "    </tr>\n",
       "    <tr>\n",
       "      <th>50%</th>\n",
       "      <td>NaN</td>\n",
       "      <td>36.000000</td>\n",
       "      <td>NaN</td>\n",
       "    </tr>\n",
       "    <tr>\n",
       "      <th>75%</th>\n",
       "      <td>NaN</td>\n",
       "      <td>44.000000</td>\n",
       "      <td>NaN</td>\n",
       "    </tr>\n",
       "    <tr>\n",
       "      <th>max</th>\n",
       "      <td>NaN</td>\n",
       "      <td>50.000000</td>\n",
       "      <td>NaN</td>\n",
       "    </tr>\n",
       "  </tbody>\n",
       "</table>\n",
       "</div>"
      ],
      "text/plain": [
       "         이름         나이   직업\n",
       "count     9   9.000000   10\n",
       "unique    8        NaN   10\n",
       "top     김재호        NaN  주유원\n",
       "freq      2        NaN    1\n",
       "mean    NaN  37.666667  NaN\n",
       "std     NaN   8.170067  NaN\n",
       "min     NaN  27.000000  NaN\n",
       "25%     NaN  33.000000  NaN\n",
       "50%     NaN  36.000000  NaN\n",
       "75%     NaN  44.000000  NaN\n",
       "max     NaN  50.000000  NaN"
      ]
     },
     "execution_count": 147,
     "metadata": {},
     "output_type": "execute_result"
    }
   ],
   "source": [
    "df2.describe(include='all')"
   ]
  },
  {
   "cell_type": "code",
   "execution_count": 148,
   "id": "ea9b2506",
   "metadata": {},
   "outputs": [
    {
     "name": "stdout",
     "output_type": "stream",
     "text": [
      "<class 'pandas.core.frame.DataFrame'>\n",
      "Index: 10 entries, A to J\n",
      "Data columns (total 3 columns):\n",
      " #   Column  Non-Null Count  Dtype  \n",
      "---  ------  --------------  -----  \n",
      " 0   이름      9 non-null      object \n",
      " 1   나이      9 non-null      float64\n",
      " 2   직업      10 non-null     object \n",
      "dtypes: float64(1), object(2)\n",
      "memory usage: 620.0+ bytes\n"
     ]
    }
   ],
   "source": [
    "df2.info()"
   ]
  },
  {
   "cell_type": "code",
   "execution_count": 149,
   "id": "ce2e26a5",
   "metadata": {},
   "outputs": [
    {
     "data": {
      "text/html": [
       "<div>\n",
       "<style scoped>\n",
       "    .dataframe tbody tr th:only-of-type {\n",
       "        vertical-align: middle;\n",
       "    }\n",
       "\n",
       "    .dataframe tbody tr th {\n",
       "        vertical-align: top;\n",
       "    }\n",
       "\n",
       "    .dataframe thead th {\n",
       "        text-align: right;\n",
       "    }\n",
       "</style>\n",
       "<table border=\"1\" class=\"dataframe\">\n",
       "  <thead>\n",
       "    <tr style=\"text-align: right;\">\n",
       "      <th></th>\n",
       "      <th>이름</th>\n",
       "      <th>나이</th>\n",
       "      <th>직업</th>\n",
       "    </tr>\n",
       "  </thead>\n",
       "  <tbody>\n",
       "    <tr>\n",
       "      <th>A</th>\n",
       "      <td>False</td>\n",
       "      <td>False</td>\n",
       "      <td>False</td>\n",
       "    </tr>\n",
       "    <tr>\n",
       "      <th>B</th>\n",
       "      <td>False</td>\n",
       "      <td>False</td>\n",
       "      <td>False</td>\n",
       "    </tr>\n",
       "    <tr>\n",
       "      <th>C</th>\n",
       "      <td>False</td>\n",
       "      <td>False</td>\n",
       "      <td>False</td>\n",
       "    </tr>\n",
       "    <tr>\n",
       "      <th>D</th>\n",
       "      <td>False</td>\n",
       "      <td>False</td>\n",
       "      <td>False</td>\n",
       "    </tr>\n",
       "    <tr>\n",
       "      <th>E</th>\n",
       "      <td>False</td>\n",
       "      <td>False</td>\n",
       "      <td>False</td>\n",
       "    </tr>\n",
       "    <tr>\n",
       "      <th>F</th>\n",
       "      <td>False</td>\n",
       "      <td>False</td>\n",
       "      <td>False</td>\n",
       "    </tr>\n",
       "    <tr>\n",
       "      <th>G</th>\n",
       "      <td>False</td>\n",
       "      <td>False</td>\n",
       "      <td>False</td>\n",
       "    </tr>\n",
       "    <tr>\n",
       "      <th>H</th>\n",
       "      <td>False</td>\n",
       "      <td>False</td>\n",
       "      <td>False</td>\n",
       "    </tr>\n",
       "    <tr>\n",
       "      <th>I</th>\n",
       "      <td>False</td>\n",
       "      <td>True</td>\n",
       "      <td>False</td>\n",
       "    </tr>\n",
       "    <tr>\n",
       "      <th>J</th>\n",
       "      <td>True</td>\n",
       "      <td>False</td>\n",
       "      <td>False</td>\n",
       "    </tr>\n",
       "  </tbody>\n",
       "</table>\n",
       "</div>"
      ],
      "text/plain": [
       "      이름     나이     직업\n",
       "A  False  False  False\n",
       "B  False  False  False\n",
       "C  False  False  False\n",
       "D  False  False  False\n",
       "E  False  False  False\n",
       "F  False  False  False\n",
       "G  False  False  False\n",
       "H  False  False  False\n",
       "I  False   True  False\n",
       "J   True  False  False"
      ]
     },
     "execution_count": 149,
     "metadata": {},
     "output_type": "execute_result"
    }
   ],
   "source": [
    "df2.isna()"
   ]
  },
  {
   "cell_type": "code",
   "execution_count": 150,
   "id": "890e09cb",
   "metadata": {},
   "outputs": [
    {
     "data": {
      "text/html": [
       "<div>\n",
       "<style scoped>\n",
       "    .dataframe tbody tr th:only-of-type {\n",
       "        vertical-align: middle;\n",
       "    }\n",
       "\n",
       "    .dataframe tbody tr th {\n",
       "        vertical-align: top;\n",
       "    }\n",
       "\n",
       "    .dataframe thead th {\n",
       "        text-align: right;\n",
       "    }\n",
       "</style>\n",
       "<table border=\"1\" class=\"dataframe\">\n",
       "  <thead>\n",
       "    <tr style=\"text-align: right;\">\n",
       "      <th></th>\n",
       "      <th>이름</th>\n",
       "      <th>나이</th>\n",
       "      <th>직업</th>\n",
       "    </tr>\n",
       "  </thead>\n",
       "  <tbody>\n",
       "    <tr>\n",
       "      <th>A</th>\n",
       "      <td>김수민</td>\n",
       "      <td>27.0</td>\n",
       "      <td>주유원</td>\n",
       "    </tr>\n",
       "    <tr>\n",
       "      <th>B</th>\n",
       "      <td>김재호</td>\n",
       "      <td>37.0</td>\n",
       "      <td>환경/청소 및 경비 관련 관리자</td>\n",
       "    </tr>\n",
       "    <tr>\n",
       "      <th>C</th>\n",
       "      <td>김영자</td>\n",
       "      <td>28.0</td>\n",
       "      <td>금속기계부품 조립원</td>\n",
       "    </tr>\n",
       "    <tr>\n",
       "      <th>D</th>\n",
       "      <td>김영일</td>\n",
       "      <td>36.0</td>\n",
       "      <td>기타 음식서비스 종사원</td>\n",
       "    </tr>\n",
       "    <tr>\n",
       "      <th>E</th>\n",
       "      <td>김재호</td>\n",
       "      <td>36.0</td>\n",
       "      <td>모피 및 가죽의복 제조원</td>\n",
       "    </tr>\n",
       "    <tr>\n",
       "      <th>F</th>\n",
       "      <td>김은서</td>\n",
       "      <td>44.0</td>\n",
       "      <td>선장/항해사 및 도선사</td>\n",
       "    </tr>\n",
       "    <tr>\n",
       "      <th>G</th>\n",
       "      <td>김지원</td>\n",
       "      <td>33.0</td>\n",
       "      <td>보험 심사원 및 사무원</td>\n",
       "    </tr>\n",
       "    <tr>\n",
       "      <th>H</th>\n",
       "      <td>이민지</td>\n",
       "      <td>50.0</td>\n",
       "      <td>웹 개발자</td>\n",
       "    </tr>\n",
       "    <tr>\n",
       "      <th>I</th>\n",
       "      <td>이미숙</td>\n",
       "      <td>홍길동</td>\n",
       "      <td>주조원</td>\n",
       "    </tr>\n",
       "    <tr>\n",
       "      <th>J</th>\n",
       "      <td>홍길동</td>\n",
       "      <td>48.0</td>\n",
       "      <td>감독 및 기술감독</td>\n",
       "    </tr>\n",
       "  </tbody>\n",
       "</table>\n",
       "</div>"
      ],
      "text/plain": [
       "    이름    나이                 직업\n",
       "A  김수민  27.0                주유원\n",
       "B  김재호  37.0  환경/청소 및 경비 관련 관리자\n",
       "C  김영자  28.0         금속기계부품 조립원\n",
       "D  김영일  36.0       기타 음식서비스 종사원\n",
       "E  김재호  36.0      모피 및 가죽의복 제조원\n",
       "F  김은서  44.0       선장/항해사 및 도선사\n",
       "G  김지원  33.0       보험 심사원 및 사무원\n",
       "H  이민지  50.0              웹 개발자\n",
       "I  이미숙   홍길동                주조원\n",
       "J  홍길동  48.0          감독 및 기술감독"
      ]
     },
     "execution_count": 150,
     "metadata": {},
     "output_type": "execute_result"
    }
   ],
   "source": [
    "df2.fillna('홍길동')"
   ]
  },
  {
   "cell_type": "code",
   "execution_count": 151,
   "id": "d9c52b01",
   "metadata": {},
   "outputs": [
    {
     "data": {
      "text/html": [
       "<div>\n",
       "<style scoped>\n",
       "    .dataframe tbody tr th:only-of-type {\n",
       "        vertical-align: middle;\n",
       "    }\n",
       "\n",
       "    .dataframe tbody tr th {\n",
       "        vertical-align: top;\n",
       "    }\n",
       "\n",
       "    .dataframe thead th {\n",
       "        text-align: right;\n",
       "    }\n",
       "</style>\n",
       "<table border=\"1\" class=\"dataframe\">\n",
       "  <thead>\n",
       "    <tr style=\"text-align: right;\">\n",
       "      <th></th>\n",
       "      <th>이름</th>\n",
       "      <th>나이</th>\n",
       "      <th>직업</th>\n",
       "    </tr>\n",
       "  </thead>\n",
       "  <tbody>\n",
       "    <tr>\n",
       "      <th>A</th>\n",
       "      <td>김수민</td>\n",
       "      <td>27.0</td>\n",
       "      <td>주유원</td>\n",
       "    </tr>\n",
       "    <tr>\n",
       "      <th>B</th>\n",
       "      <td>김재호</td>\n",
       "      <td>37.0</td>\n",
       "      <td>환경/청소 및 경비 관련 관리자</td>\n",
       "    </tr>\n",
       "    <tr>\n",
       "      <th>C</th>\n",
       "      <td>김영자</td>\n",
       "      <td>28.0</td>\n",
       "      <td>금속기계부품 조립원</td>\n",
       "    </tr>\n",
       "    <tr>\n",
       "      <th>D</th>\n",
       "      <td>김영일</td>\n",
       "      <td>36.0</td>\n",
       "      <td>기타 음식서비스 종사원</td>\n",
       "    </tr>\n",
       "    <tr>\n",
       "      <th>E</th>\n",
       "      <td>김재호</td>\n",
       "      <td>36.0</td>\n",
       "      <td>모피 및 가죽의복 제조원</td>\n",
       "    </tr>\n",
       "    <tr>\n",
       "      <th>F</th>\n",
       "      <td>김은서</td>\n",
       "      <td>44.0</td>\n",
       "      <td>선장/항해사 및 도선사</td>\n",
       "    </tr>\n",
       "    <tr>\n",
       "      <th>G</th>\n",
       "      <td>김지원</td>\n",
       "      <td>33.0</td>\n",
       "      <td>보험 심사원 및 사무원</td>\n",
       "    </tr>\n",
       "    <tr>\n",
       "      <th>H</th>\n",
       "      <td>이민지</td>\n",
       "      <td>50.0</td>\n",
       "      <td>웹 개발자</td>\n",
       "    </tr>\n",
       "    <tr>\n",
       "      <th>I</th>\n",
       "      <td>이미숙</td>\n",
       "      <td>NaN</td>\n",
       "      <td>주조원</td>\n",
       "    </tr>\n",
       "    <tr>\n",
       "      <th>J</th>\n",
       "      <td>홍길동</td>\n",
       "      <td>48.0</td>\n",
       "      <td>감독 및 기술감독</td>\n",
       "    </tr>\n",
       "  </tbody>\n",
       "</table>\n",
       "</div>"
      ],
      "text/plain": [
       "    이름    나이                 직업\n",
       "A  김수민  27.0                주유원\n",
       "B  김재호  37.0  환경/청소 및 경비 관련 관리자\n",
       "C  김영자  28.0         금속기계부품 조립원\n",
       "D  김영일  36.0       기타 음식서비스 종사원\n",
       "E  김재호  36.0      모피 및 가죽의복 제조원\n",
       "F  김은서  44.0       선장/항해사 및 도선사\n",
       "G  김지원  33.0       보험 심사원 및 사무원\n",
       "H  이민지  50.0              웹 개발자\n",
       "I  이미숙   NaN                주조원\n",
       "J  홍길동  48.0          감독 및 기술감독"
      ]
     },
     "execution_count": 151,
     "metadata": {},
     "output_type": "execute_result"
    }
   ],
   "source": [
    "df2.fillna({'이름': '홍길동'})"
   ]
  },
  {
   "cell_type": "code",
   "execution_count": 155,
   "id": "2f49a75d",
   "metadata": {},
   "outputs": [
    {
     "data": {
      "text/html": [
       "<div>\n",
       "<style scoped>\n",
       "    .dataframe tbody tr th:only-of-type {\n",
       "        vertical-align: middle;\n",
       "    }\n",
       "\n",
       "    .dataframe tbody tr th {\n",
       "        vertical-align: top;\n",
       "    }\n",
       "\n",
       "    .dataframe thead th {\n",
       "        text-align: right;\n",
       "    }\n",
       "</style>\n",
       "<table border=\"1\" class=\"dataframe\">\n",
       "  <thead>\n",
       "    <tr style=\"text-align: right;\">\n",
       "      <th></th>\n",
       "      <th>이름</th>\n",
       "      <th>나이</th>\n",
       "      <th>직업</th>\n",
       "    </tr>\n",
       "  </thead>\n",
       "  <tbody>\n",
       "    <tr>\n",
       "      <th>A</th>\n",
       "      <td>김수민</td>\n",
       "      <td>27.0</td>\n",
       "      <td>주유원</td>\n",
       "    </tr>\n",
       "    <tr>\n",
       "      <th>B</th>\n",
       "      <td>김재호</td>\n",
       "      <td>37.0</td>\n",
       "      <td>환경/청소 및 경비 관련 관리자</td>\n",
       "    </tr>\n",
       "    <tr>\n",
       "      <th>C</th>\n",
       "      <td>김영자</td>\n",
       "      <td>28.0</td>\n",
       "      <td>금속기계부품 조립원</td>\n",
       "    </tr>\n",
       "    <tr>\n",
       "      <th>D</th>\n",
       "      <td>김영일</td>\n",
       "      <td>36.0</td>\n",
       "      <td>기타 음식서비스 종사원</td>\n",
       "    </tr>\n",
       "    <tr>\n",
       "      <th>E</th>\n",
       "      <td>김재호</td>\n",
       "      <td>36.0</td>\n",
       "      <td>모피 및 가죽의복 제조원</td>\n",
       "    </tr>\n",
       "    <tr>\n",
       "      <th>F</th>\n",
       "      <td>김은서</td>\n",
       "      <td>44.0</td>\n",
       "      <td>선장/항해사 및 도선사</td>\n",
       "    </tr>\n",
       "    <tr>\n",
       "      <th>G</th>\n",
       "      <td>김지원</td>\n",
       "      <td>33.0</td>\n",
       "      <td>보험 심사원 및 사무원</td>\n",
       "    </tr>\n",
       "    <tr>\n",
       "      <th>H</th>\n",
       "      <td>이민지</td>\n",
       "      <td>50.0</td>\n",
       "      <td>웹 개발자</td>\n",
       "    </tr>\n",
       "    <tr>\n",
       "      <th>I</th>\n",
       "      <td>이미숙</td>\n",
       "      <td>37.0</td>\n",
       "      <td>주조원</td>\n",
       "    </tr>\n",
       "    <tr>\n",
       "      <th>J</th>\n",
       "      <td>홍길동</td>\n",
       "      <td>48.0</td>\n",
       "      <td>감독 및 기술감독</td>\n",
       "    </tr>\n",
       "  </tbody>\n",
       "</table>\n",
       "</div>"
      ],
      "text/plain": [
       "    이름    나이                 직업\n",
       "A  김수민  27.0                주유원\n",
       "B  김재호  37.0  환경/청소 및 경비 관련 관리자\n",
       "C  김영자  28.0         금속기계부품 조립원\n",
       "D  김영일  36.0       기타 음식서비스 종사원\n",
       "E  김재호  36.0      모피 및 가죽의복 제조원\n",
       "F  김은서  44.0       선장/항해사 및 도선사\n",
       "G  김지원  33.0       보험 심사원 및 사무원\n",
       "H  이민지  50.0              웹 개발자\n",
       "I  이미숙  37.0                주조원\n",
       "J  홍길동  48.0          감독 및 기술감독"
      ]
     },
     "execution_count": 155,
     "metadata": {},
     "output_type": "execute_result"
    }
   ],
   "source": [
    "fillna_df = df2.fillna({'이름': '홍길동', '나이':df2['나이'].mean().astype(int)})\n",
    "fillna_df"
   ]
  },
  {
   "cell_type": "code",
   "execution_count": 157,
   "id": "fae698c9",
   "metadata": {},
   "outputs": [
    {
     "data": {
      "text/html": [
       "<div>\n",
       "<style scoped>\n",
       "    .dataframe tbody tr th:only-of-type {\n",
       "        vertical-align: middle;\n",
       "    }\n",
       "\n",
       "    .dataframe tbody tr th {\n",
       "        vertical-align: top;\n",
       "    }\n",
       "\n",
       "    .dataframe thead th {\n",
       "        text-align: right;\n",
       "    }\n",
       "</style>\n",
       "<table border=\"1\" class=\"dataframe\">\n",
       "  <thead>\n",
       "    <tr style=\"text-align: right;\">\n",
       "      <th></th>\n",
       "      <th>이름</th>\n",
       "      <th>나이</th>\n",
       "      <th>직업</th>\n",
       "    </tr>\n",
       "  </thead>\n",
       "  <tbody>\n",
       "    <tr>\n",
       "      <th>A</th>\n",
       "      <td>김수민</td>\n",
       "      <td>27.0</td>\n",
       "      <td>주유원</td>\n",
       "    </tr>\n",
       "    <tr>\n",
       "      <th>B</th>\n",
       "      <td>김재호</td>\n",
       "      <td>37.0</td>\n",
       "      <td>환경/청소 및 경비 관련 관리자</td>\n",
       "    </tr>\n",
       "    <tr>\n",
       "      <th>C</th>\n",
       "      <td>김영자</td>\n",
       "      <td>28.0</td>\n",
       "      <td>금속기계부품 조립원</td>\n",
       "    </tr>\n",
       "    <tr>\n",
       "      <th>D</th>\n",
       "      <td>김영일</td>\n",
       "      <td>36.0</td>\n",
       "      <td>기타 음식서비스 종사원</td>\n",
       "    </tr>\n",
       "    <tr>\n",
       "      <th>E</th>\n",
       "      <td>김재호</td>\n",
       "      <td>36.0</td>\n",
       "      <td>모피 및 가죽의복 제조원</td>\n",
       "    </tr>\n",
       "    <tr>\n",
       "      <th>F</th>\n",
       "      <td>김은서</td>\n",
       "      <td>44.0</td>\n",
       "      <td>선장/항해사 및 도선사</td>\n",
       "    </tr>\n",
       "    <tr>\n",
       "      <th>G</th>\n",
       "      <td>김지원</td>\n",
       "      <td>33.0</td>\n",
       "      <td>보험 심사원 및 사무원</td>\n",
       "    </tr>\n",
       "    <tr>\n",
       "      <th>H</th>\n",
       "      <td>이민지</td>\n",
       "      <td>50.0</td>\n",
       "      <td>웹 개발자</td>\n",
       "    </tr>\n",
       "    <tr>\n",
       "      <th>I</th>\n",
       "      <td>이미숙</td>\n",
       "      <td>NaN</td>\n",
       "      <td>주조원</td>\n",
       "    </tr>\n",
       "    <tr>\n",
       "      <th>J</th>\n",
       "      <td>None</td>\n",
       "      <td>48.0</td>\n",
       "      <td>감독 및 기술감독</td>\n",
       "    </tr>\n",
       "  </tbody>\n",
       "</table>\n",
       "</div>"
      ],
      "text/plain": [
       "     이름    나이                 직업\n",
       "A   김수민  27.0                주유원\n",
       "B   김재호  37.0  환경/청소 및 경비 관련 관리자\n",
       "C   김영자  28.0         금속기계부품 조립원\n",
       "D   김영일  36.0       기타 음식서비스 종사원\n",
       "E   김재호  36.0      모피 및 가죽의복 제조원\n",
       "F   김은서  44.0       선장/항해사 및 도선사\n",
       "G   김지원  33.0       보험 심사원 및 사무원\n",
       "H   이민지  50.0              웹 개발자\n",
       "I   이미숙   NaN                주조원\n",
       "J  None  48.0          감독 및 기술감독"
      ]
     },
     "execution_count": 157,
     "metadata": {},
     "output_type": "execute_result"
    }
   ],
   "source": [
    "df2"
   ]
  },
  {
   "cell_type": "code",
   "execution_count": 158,
   "id": "ace63800",
   "metadata": {},
   "outputs": [
    {
     "data": {
      "text/html": [
       "<div>\n",
       "<style scoped>\n",
       "    .dataframe tbody tr th:only-of-type {\n",
       "        vertical-align: middle;\n",
       "    }\n",
       "\n",
       "    .dataframe tbody tr th {\n",
       "        vertical-align: top;\n",
       "    }\n",
       "\n",
       "    .dataframe thead th {\n",
       "        text-align: right;\n",
       "    }\n",
       "</style>\n",
       "<table border=\"1\" class=\"dataframe\">\n",
       "  <thead>\n",
       "    <tr style=\"text-align: right;\">\n",
       "      <th></th>\n",
       "      <th>이름</th>\n",
       "      <th>나이</th>\n",
       "      <th>직업</th>\n",
       "    </tr>\n",
       "  </thead>\n",
       "  <tbody>\n",
       "    <tr>\n",
       "      <th>A</th>\n",
       "      <td>김수민</td>\n",
       "      <td>27.0</td>\n",
       "      <td>주유원</td>\n",
       "    </tr>\n",
       "    <tr>\n",
       "      <th>B</th>\n",
       "      <td>김재호</td>\n",
       "      <td>37.0</td>\n",
       "      <td>환경/청소 및 경비 관련 관리자</td>\n",
       "    </tr>\n",
       "    <tr>\n",
       "      <th>C</th>\n",
       "      <td>김영자</td>\n",
       "      <td>28.0</td>\n",
       "      <td>금속기계부품 조립원</td>\n",
       "    </tr>\n",
       "    <tr>\n",
       "      <th>D</th>\n",
       "      <td>김영일</td>\n",
       "      <td>36.0</td>\n",
       "      <td>기타 음식서비스 종사원</td>\n",
       "    </tr>\n",
       "    <tr>\n",
       "      <th>E</th>\n",
       "      <td>김재호</td>\n",
       "      <td>36.0</td>\n",
       "      <td>모피 및 가죽의복 제조원</td>\n",
       "    </tr>\n",
       "    <tr>\n",
       "      <th>F</th>\n",
       "      <td>김은서</td>\n",
       "      <td>44.0</td>\n",
       "      <td>선장/항해사 및 도선사</td>\n",
       "    </tr>\n",
       "    <tr>\n",
       "      <th>G</th>\n",
       "      <td>김지원</td>\n",
       "      <td>33.0</td>\n",
       "      <td>보험 심사원 및 사무원</td>\n",
       "    </tr>\n",
       "    <tr>\n",
       "      <th>H</th>\n",
       "      <td>이민지</td>\n",
       "      <td>50.0</td>\n",
       "      <td>웹 개발자</td>\n",
       "    </tr>\n",
       "  </tbody>\n",
       "</table>\n",
       "</div>"
      ],
      "text/plain": [
       "    이름    나이                 직업\n",
       "A  김수민  27.0                주유원\n",
       "B  김재호  37.0  환경/청소 및 경비 관련 관리자\n",
       "C  김영자  28.0         금속기계부품 조립원\n",
       "D  김영일  36.0       기타 음식서비스 종사원\n",
       "E  김재호  36.0      모피 및 가죽의복 제조원\n",
       "F  김은서  44.0       선장/항해사 및 도선사\n",
       "G  김지원  33.0       보험 심사원 및 사무원\n",
       "H  이민지  50.0              웹 개발자"
      ]
     },
     "execution_count": 158,
     "metadata": {},
     "output_type": "execute_result"
    }
   ],
   "source": [
    "df2.dropna(axis=0)"
   ]
  },
  {
   "cell_type": "code",
   "execution_count": 159,
   "id": "8348c141",
   "metadata": {},
   "outputs": [
    {
     "data": {
      "text/html": [
       "<div>\n",
       "<style scoped>\n",
       "    .dataframe tbody tr th:only-of-type {\n",
       "        vertical-align: middle;\n",
       "    }\n",
       "\n",
       "    .dataframe tbody tr th {\n",
       "        vertical-align: top;\n",
       "    }\n",
       "\n",
       "    .dataframe thead th {\n",
       "        text-align: right;\n",
       "    }\n",
       "</style>\n",
       "<table border=\"1\" class=\"dataframe\">\n",
       "  <thead>\n",
       "    <tr style=\"text-align: right;\">\n",
       "      <th></th>\n",
       "      <th>직업</th>\n",
       "    </tr>\n",
       "  </thead>\n",
       "  <tbody>\n",
       "    <tr>\n",
       "      <th>A</th>\n",
       "      <td>주유원</td>\n",
       "    </tr>\n",
       "    <tr>\n",
       "      <th>B</th>\n",
       "      <td>환경/청소 및 경비 관련 관리자</td>\n",
       "    </tr>\n",
       "    <tr>\n",
       "      <th>C</th>\n",
       "      <td>금속기계부품 조립원</td>\n",
       "    </tr>\n",
       "    <tr>\n",
       "      <th>D</th>\n",
       "      <td>기타 음식서비스 종사원</td>\n",
       "    </tr>\n",
       "    <tr>\n",
       "      <th>E</th>\n",
       "      <td>모피 및 가죽의복 제조원</td>\n",
       "    </tr>\n",
       "    <tr>\n",
       "      <th>F</th>\n",
       "      <td>선장/항해사 및 도선사</td>\n",
       "    </tr>\n",
       "    <tr>\n",
       "      <th>G</th>\n",
       "      <td>보험 심사원 및 사무원</td>\n",
       "    </tr>\n",
       "    <tr>\n",
       "      <th>H</th>\n",
       "      <td>웹 개발자</td>\n",
       "    </tr>\n",
       "    <tr>\n",
       "      <th>I</th>\n",
       "      <td>주조원</td>\n",
       "    </tr>\n",
       "    <tr>\n",
       "      <th>J</th>\n",
       "      <td>감독 및 기술감독</td>\n",
       "    </tr>\n",
       "  </tbody>\n",
       "</table>\n",
       "</div>"
      ],
      "text/plain": [
       "                  직업\n",
       "A                주유원\n",
       "B  환경/청소 및 경비 관련 관리자\n",
       "C         금속기계부품 조립원\n",
       "D       기타 음식서비스 종사원\n",
       "E      모피 및 가죽의복 제조원\n",
       "F       선장/항해사 및 도선사\n",
       "G       보험 심사원 및 사무원\n",
       "H              웹 개발자\n",
       "I                주조원\n",
       "J          감독 및 기술감독"
      ]
     },
     "execution_count": 159,
     "metadata": {},
     "output_type": "execute_result"
    }
   ],
   "source": [
    "df2.dropna(axis=1)"
   ]
  },
  {
   "cell_type": "code",
   "execution_count": 160,
   "id": "0f935ce4",
   "metadata": {},
   "outputs": [
    {
     "data": {
      "text/html": [
       "<div>\n",
       "<style scoped>\n",
       "    .dataframe tbody tr th:only-of-type {\n",
       "        vertical-align: middle;\n",
       "    }\n",
       "\n",
       "    .dataframe tbody tr th {\n",
       "        vertical-align: top;\n",
       "    }\n",
       "\n",
       "    .dataframe thead th {\n",
       "        text-align: right;\n",
       "    }\n",
       "</style>\n",
       "<table border=\"1\" class=\"dataframe\">\n",
       "  <thead>\n",
       "    <tr style=\"text-align: right;\">\n",
       "      <th></th>\n",
       "      <th>이름</th>\n",
       "      <th>나이</th>\n",
       "      <th>직업</th>\n",
       "    </tr>\n",
       "  </thead>\n",
       "  <tbody>\n",
       "    <tr>\n",
       "      <th>A</th>\n",
       "      <td>김수민</td>\n",
       "      <td>27.0</td>\n",
       "      <td>주유원</td>\n",
       "    </tr>\n",
       "    <tr>\n",
       "      <th>B</th>\n",
       "      <td>김재호</td>\n",
       "      <td>37.0</td>\n",
       "      <td>환경/청소 및 경비 관련 관리자</td>\n",
       "    </tr>\n",
       "    <tr>\n",
       "      <th>C</th>\n",
       "      <td>김영자</td>\n",
       "      <td>28.0</td>\n",
       "      <td>금속기계부품 조립원</td>\n",
       "    </tr>\n",
       "    <tr>\n",
       "      <th>D</th>\n",
       "      <td>김영일</td>\n",
       "      <td>36.0</td>\n",
       "      <td>기타 음식서비스 종사원</td>\n",
       "    </tr>\n",
       "    <tr>\n",
       "      <th>E</th>\n",
       "      <td>김재호</td>\n",
       "      <td>36.0</td>\n",
       "      <td>모피 및 가죽의복 제조원</td>\n",
       "    </tr>\n",
       "    <tr>\n",
       "      <th>F</th>\n",
       "      <td>김은서</td>\n",
       "      <td>44.0</td>\n",
       "      <td>선장/항해사 및 도선사</td>\n",
       "    </tr>\n",
       "    <tr>\n",
       "      <th>G</th>\n",
       "      <td>김지원</td>\n",
       "      <td>33.0</td>\n",
       "      <td>보험 심사원 및 사무원</td>\n",
       "    </tr>\n",
       "    <tr>\n",
       "      <th>H</th>\n",
       "      <td>이민지</td>\n",
       "      <td>50.0</td>\n",
       "      <td>웹 개발자</td>\n",
       "    </tr>\n",
       "    <tr>\n",
       "      <th>I</th>\n",
       "      <td>이미숙</td>\n",
       "      <td>NaN</td>\n",
       "      <td>주조원</td>\n",
       "    </tr>\n",
       "  </tbody>\n",
       "</table>\n",
       "</div>"
      ],
      "text/plain": [
       "    이름    나이                 직업\n",
       "A  김수민  27.0                주유원\n",
       "B  김재호  37.0  환경/청소 및 경비 관련 관리자\n",
       "C  김영자  28.0         금속기계부품 조립원\n",
       "D  김영일  36.0       기타 음식서비스 종사원\n",
       "E  김재호  36.0      모피 및 가죽의복 제조원\n",
       "F  김은서  44.0       선장/항해사 및 도선사\n",
       "G  김지원  33.0       보험 심사원 및 사무원\n",
       "H  이민지  50.0              웹 개발자\n",
       "I  이미숙   NaN                주조원"
      ]
     },
     "execution_count": 160,
     "metadata": {},
     "output_type": "execute_result"
    }
   ],
   "source": [
    "df2.dropna(subset='이름')"
   ]
  },
  {
   "cell_type": "code",
   "execution_count": 161,
   "id": "6aa3fe8a",
   "metadata": {},
   "outputs": [
    {
     "data": {
      "text/html": [
       "<div>\n",
       "<style scoped>\n",
       "    .dataframe tbody tr th:only-of-type {\n",
       "        vertical-align: middle;\n",
       "    }\n",
       "\n",
       "    .dataframe tbody tr th {\n",
       "        vertical-align: top;\n",
       "    }\n",
       "\n",
       "    .dataframe thead th {\n",
       "        text-align: right;\n",
       "    }\n",
       "</style>\n",
       "<table border=\"1\" class=\"dataframe\">\n",
       "  <thead>\n",
       "    <tr style=\"text-align: right;\">\n",
       "      <th></th>\n",
       "      <th>이름</th>\n",
       "      <th>나이</th>\n",
       "      <th>직업</th>\n",
       "    </tr>\n",
       "  </thead>\n",
       "  <tbody>\n",
       "    <tr>\n",
       "      <th>A</th>\n",
       "      <td>김수민</td>\n",
       "      <td>27.0</td>\n",
       "      <td>주유원</td>\n",
       "    </tr>\n",
       "    <tr>\n",
       "      <th>B</th>\n",
       "      <td>김재호</td>\n",
       "      <td>37.0</td>\n",
       "      <td>환경/청소 및 경비 관련 관리자</td>\n",
       "    </tr>\n",
       "    <tr>\n",
       "      <th>C</th>\n",
       "      <td>김영자</td>\n",
       "      <td>28.0</td>\n",
       "      <td>금속기계부품 조립원</td>\n",
       "    </tr>\n",
       "    <tr>\n",
       "      <th>D</th>\n",
       "      <td>김영일</td>\n",
       "      <td>36.0</td>\n",
       "      <td>기타 음식서비스 종사원</td>\n",
       "    </tr>\n",
       "    <tr>\n",
       "      <th>E</th>\n",
       "      <td>김재호</td>\n",
       "      <td>36.0</td>\n",
       "      <td>모피 및 가죽의복 제조원</td>\n",
       "    </tr>\n",
       "    <tr>\n",
       "      <th>F</th>\n",
       "      <td>김은서</td>\n",
       "      <td>44.0</td>\n",
       "      <td>선장/항해사 및 도선사</td>\n",
       "    </tr>\n",
       "    <tr>\n",
       "      <th>G</th>\n",
       "      <td>김지원</td>\n",
       "      <td>33.0</td>\n",
       "      <td>보험 심사원 및 사무원</td>\n",
       "    </tr>\n",
       "    <tr>\n",
       "      <th>H</th>\n",
       "      <td>이민지</td>\n",
       "      <td>50.0</td>\n",
       "      <td>웹 개발자</td>\n",
       "    </tr>\n",
       "  </tbody>\n",
       "</table>\n",
       "</div>"
      ],
      "text/plain": [
       "    이름    나이                 직업\n",
       "A  김수민  27.0                주유원\n",
       "B  김재호  37.0  환경/청소 및 경비 관련 관리자\n",
       "C  김영자  28.0         금속기계부품 조립원\n",
       "D  김영일  36.0       기타 음식서비스 종사원\n",
       "E  김재호  36.0      모피 및 가죽의복 제조원\n",
       "F  김은서  44.0       선장/항해사 및 도선사\n",
       "G  김지원  33.0       보험 심사원 및 사무원\n",
       "H  이민지  50.0              웹 개발자"
      ]
     },
     "execution_count": 161,
     "metadata": {},
     "output_type": "execute_result"
    }
   ],
   "source": [
    "df2.dropna(subset=['이름', '나이'])"
   ]
  },
  {
   "cell_type": "code",
   "execution_count": 162,
   "id": "0f8a8a37",
   "metadata": {},
   "outputs": [
    {
     "data": {
      "text/html": [
       "<div>\n",
       "<style scoped>\n",
       "    .dataframe tbody tr th:only-of-type {\n",
       "        vertical-align: middle;\n",
       "    }\n",
       "\n",
       "    .dataframe tbody tr th {\n",
       "        vertical-align: top;\n",
       "    }\n",
       "\n",
       "    .dataframe thead th {\n",
       "        text-align: right;\n",
       "    }\n",
       "</style>\n",
       "<table border=\"1\" class=\"dataframe\">\n",
       "  <thead>\n",
       "    <tr style=\"text-align: right;\">\n",
       "      <th></th>\n",
       "      <th>이름</th>\n",
       "      <th>나이</th>\n",
       "      <th>직업</th>\n",
       "    </tr>\n",
       "  </thead>\n",
       "  <tbody>\n",
       "    <tr>\n",
       "      <th>B</th>\n",
       "      <td>김재호</td>\n",
       "      <td>37.0</td>\n",
       "      <td>환경/청소 및 경비 관련 관리자</td>\n",
       "    </tr>\n",
       "    <tr>\n",
       "      <th>C</th>\n",
       "      <td>김영자</td>\n",
       "      <td>28.0</td>\n",
       "      <td>금속기계부품 조립원</td>\n",
       "    </tr>\n",
       "    <tr>\n",
       "      <th>D</th>\n",
       "      <td>김영일</td>\n",
       "      <td>36.0</td>\n",
       "      <td>기타 음식서비스 종사원</td>\n",
       "    </tr>\n",
       "    <tr>\n",
       "      <th>E</th>\n",
       "      <td>김재호</td>\n",
       "      <td>36.0</td>\n",
       "      <td>모피 및 가죽의복 제조원</td>\n",
       "    </tr>\n",
       "    <tr>\n",
       "      <th>F</th>\n",
       "      <td>김은서</td>\n",
       "      <td>44.0</td>\n",
       "      <td>선장/항해사 및 도선사</td>\n",
       "    </tr>\n",
       "    <tr>\n",
       "      <th>G</th>\n",
       "      <td>김지원</td>\n",
       "      <td>33.0</td>\n",
       "      <td>보험 심사원 및 사무원</td>\n",
       "    </tr>\n",
       "    <tr>\n",
       "      <th>H</th>\n",
       "      <td>이민지</td>\n",
       "      <td>50.0</td>\n",
       "      <td>웹 개발자</td>\n",
       "    </tr>\n",
       "    <tr>\n",
       "      <th>I</th>\n",
       "      <td>이미숙</td>\n",
       "      <td>NaN</td>\n",
       "      <td>주조원</td>\n",
       "    </tr>\n",
       "    <tr>\n",
       "      <th>J</th>\n",
       "      <td>None</td>\n",
       "      <td>48.0</td>\n",
       "      <td>감독 및 기술감독</td>\n",
       "    </tr>\n",
       "  </tbody>\n",
       "</table>\n",
       "</div>"
      ],
      "text/plain": [
       "     이름    나이                 직업\n",
       "B   김재호  37.0  환경/청소 및 경비 관련 관리자\n",
       "C   김영자  28.0         금속기계부품 조립원\n",
       "D   김영일  36.0       기타 음식서비스 종사원\n",
       "E   김재호  36.0      모피 및 가죽의복 제조원\n",
       "F   김은서  44.0       선장/항해사 및 도선사\n",
       "G   김지원  33.0       보험 심사원 및 사무원\n",
       "H   이민지  50.0              웹 개발자\n",
       "I   이미숙   NaN                주조원\n",
       "J  None  48.0          감독 및 기술감독"
      ]
     },
     "execution_count": 162,
     "metadata": {},
     "output_type": "execute_result"
    }
   ],
   "source": [
    "df2.drop(['A'])"
   ]
  },
  {
   "cell_type": "code",
   "execution_count": 164,
   "id": "cfdb8224",
   "metadata": {},
   "outputs": [
    {
     "data": {
      "text/html": [
       "<div>\n",
       "<style scoped>\n",
       "    .dataframe tbody tr th:only-of-type {\n",
       "        vertical-align: middle;\n",
       "    }\n",
       "\n",
       "    .dataframe tbody tr th {\n",
       "        vertical-align: top;\n",
       "    }\n",
       "\n",
       "    .dataframe thead th {\n",
       "        text-align: right;\n",
       "    }\n",
       "</style>\n",
       "<table border=\"1\" class=\"dataframe\">\n",
       "  <thead>\n",
       "    <tr style=\"text-align: right;\">\n",
       "      <th></th>\n",
       "      <th>이름</th>\n",
       "      <th>나이</th>\n",
       "      <th>직업</th>\n",
       "    </tr>\n",
       "  </thead>\n",
       "  <tbody>\n",
       "    <tr>\n",
       "      <th>B</th>\n",
       "      <td>김재호</td>\n",
       "      <td>37.0</td>\n",
       "      <td>환경/청소 및 경비 관련 관리자</td>\n",
       "    </tr>\n",
       "    <tr>\n",
       "      <th>C</th>\n",
       "      <td>김영자</td>\n",
       "      <td>28.0</td>\n",
       "      <td>금속기계부품 조립원</td>\n",
       "    </tr>\n",
       "    <tr>\n",
       "      <th>E</th>\n",
       "      <td>김재호</td>\n",
       "      <td>36.0</td>\n",
       "      <td>모피 및 가죽의복 제조원</td>\n",
       "    </tr>\n",
       "    <tr>\n",
       "      <th>F</th>\n",
       "      <td>김은서</td>\n",
       "      <td>44.0</td>\n",
       "      <td>선장/항해사 및 도선사</td>\n",
       "    </tr>\n",
       "    <tr>\n",
       "      <th>G</th>\n",
       "      <td>김지원</td>\n",
       "      <td>33.0</td>\n",
       "      <td>보험 심사원 및 사무원</td>\n",
       "    </tr>\n",
       "    <tr>\n",
       "      <th>H</th>\n",
       "      <td>이민지</td>\n",
       "      <td>50.0</td>\n",
       "      <td>웹 개발자</td>\n",
       "    </tr>\n",
       "    <tr>\n",
       "      <th>I</th>\n",
       "      <td>이미숙</td>\n",
       "      <td>NaN</td>\n",
       "      <td>주조원</td>\n",
       "    </tr>\n",
       "    <tr>\n",
       "      <th>J</th>\n",
       "      <td>None</td>\n",
       "      <td>48.0</td>\n",
       "      <td>감독 및 기술감독</td>\n",
       "    </tr>\n",
       "  </tbody>\n",
       "</table>\n",
       "</div>"
      ],
      "text/plain": [
       "     이름    나이                 직업\n",
       "B   김재호  37.0  환경/청소 및 경비 관련 관리자\n",
       "C   김영자  28.0         금속기계부품 조립원\n",
       "E   김재호  36.0      모피 및 가죽의복 제조원\n",
       "F   김은서  44.0       선장/항해사 및 도선사\n",
       "G   김지원  33.0       보험 심사원 및 사무원\n",
       "H   이민지  50.0              웹 개발자\n",
       "I   이미숙   NaN                주조원\n",
       "J  None  48.0          감독 및 기술감독"
      ]
     },
     "execution_count": 164,
     "metadata": {},
     "output_type": "execute_result"
    }
   ],
   "source": [
    "df2.drop(['A', 'D'])"
   ]
  },
  {
   "cell_type": "code",
   "execution_count": 165,
   "id": "321bc7c4",
   "metadata": {},
   "outputs": [
    {
     "data": {
      "text/html": [
       "<div>\n",
       "<style scoped>\n",
       "    .dataframe tbody tr th:only-of-type {\n",
       "        vertical-align: middle;\n",
       "    }\n",
       "\n",
       "    .dataframe tbody tr th {\n",
       "        vertical-align: top;\n",
       "    }\n",
       "\n",
       "    .dataframe thead th {\n",
       "        text-align: right;\n",
       "    }\n",
       "</style>\n",
       "<table border=\"1\" class=\"dataframe\">\n",
       "  <thead>\n",
       "    <tr style=\"text-align: right;\">\n",
       "      <th></th>\n",
       "      <th>나이</th>\n",
       "      <th>직업</th>\n",
       "    </tr>\n",
       "  </thead>\n",
       "  <tbody>\n",
       "    <tr>\n",
       "      <th>A</th>\n",
       "      <td>27.0</td>\n",
       "      <td>주유원</td>\n",
       "    </tr>\n",
       "    <tr>\n",
       "      <th>B</th>\n",
       "      <td>37.0</td>\n",
       "      <td>환경/청소 및 경비 관련 관리자</td>\n",
       "    </tr>\n",
       "    <tr>\n",
       "      <th>C</th>\n",
       "      <td>28.0</td>\n",
       "      <td>금속기계부품 조립원</td>\n",
       "    </tr>\n",
       "    <tr>\n",
       "      <th>D</th>\n",
       "      <td>36.0</td>\n",
       "      <td>기타 음식서비스 종사원</td>\n",
       "    </tr>\n",
       "    <tr>\n",
       "      <th>E</th>\n",
       "      <td>36.0</td>\n",
       "      <td>모피 및 가죽의복 제조원</td>\n",
       "    </tr>\n",
       "    <tr>\n",
       "      <th>F</th>\n",
       "      <td>44.0</td>\n",
       "      <td>선장/항해사 및 도선사</td>\n",
       "    </tr>\n",
       "    <tr>\n",
       "      <th>G</th>\n",
       "      <td>33.0</td>\n",
       "      <td>보험 심사원 및 사무원</td>\n",
       "    </tr>\n",
       "    <tr>\n",
       "      <th>H</th>\n",
       "      <td>50.0</td>\n",
       "      <td>웹 개발자</td>\n",
       "    </tr>\n",
       "    <tr>\n",
       "      <th>I</th>\n",
       "      <td>NaN</td>\n",
       "      <td>주조원</td>\n",
       "    </tr>\n",
       "    <tr>\n",
       "      <th>J</th>\n",
       "      <td>48.0</td>\n",
       "      <td>감독 및 기술감독</td>\n",
       "    </tr>\n",
       "  </tbody>\n",
       "</table>\n",
       "</div>"
      ],
      "text/plain": [
       "     나이                 직업\n",
       "A  27.0                주유원\n",
       "B  37.0  환경/청소 및 경비 관련 관리자\n",
       "C  28.0         금속기계부품 조립원\n",
       "D  36.0       기타 음식서비스 종사원\n",
       "E  36.0      모피 및 가죽의복 제조원\n",
       "F  44.0       선장/항해사 및 도선사\n",
       "G  33.0       보험 심사원 및 사무원\n",
       "H  50.0              웹 개발자\n",
       "I   NaN                주조원\n",
       "J  48.0          감독 및 기술감독"
      ]
     },
     "execution_count": 165,
     "metadata": {},
     "output_type": "execute_result"
    }
   ],
   "source": [
    "df2.drop(['이름'], axis=1)"
   ]
  },
  {
   "cell_type": "code",
   "execution_count": 166,
   "id": "61fd82a0",
   "metadata": {},
   "outputs": [
    {
     "data": {
      "text/html": [
       "<div>\n",
       "<style scoped>\n",
       "    .dataframe tbody tr th:only-of-type {\n",
       "        vertical-align: middle;\n",
       "    }\n",
       "\n",
       "    .dataframe tbody tr th {\n",
       "        vertical-align: top;\n",
       "    }\n",
       "\n",
       "    .dataframe thead th {\n",
       "        text-align: right;\n",
       "    }\n",
       "</style>\n",
       "<table border=\"1\" class=\"dataframe\">\n",
       "  <thead>\n",
       "    <tr style=\"text-align: right;\">\n",
       "      <th></th>\n",
       "      <th>이름</th>\n",
       "      <th>직업</th>\n",
       "    </tr>\n",
       "  </thead>\n",
       "  <tbody>\n",
       "    <tr>\n",
       "      <th>B</th>\n",
       "      <td>김재호</td>\n",
       "      <td>환경/청소 및 경비 관련 관리자</td>\n",
       "    </tr>\n",
       "    <tr>\n",
       "      <th>D</th>\n",
       "      <td>김영일</td>\n",
       "      <td>기타 음식서비스 종사원</td>\n",
       "    </tr>\n",
       "    <tr>\n",
       "      <th>E</th>\n",
       "      <td>김재호</td>\n",
       "      <td>모피 및 가죽의복 제조원</td>\n",
       "    </tr>\n",
       "    <tr>\n",
       "      <th>F</th>\n",
       "      <td>김은서</td>\n",
       "      <td>선장/항해사 및 도선사</td>\n",
       "    </tr>\n",
       "    <tr>\n",
       "      <th>G</th>\n",
       "      <td>김지원</td>\n",
       "      <td>보험 심사원 및 사무원</td>\n",
       "    </tr>\n",
       "    <tr>\n",
       "      <th>H</th>\n",
       "      <td>이민지</td>\n",
       "      <td>웹 개발자</td>\n",
       "    </tr>\n",
       "    <tr>\n",
       "      <th>I</th>\n",
       "      <td>이미숙</td>\n",
       "      <td>주조원</td>\n",
       "    </tr>\n",
       "    <tr>\n",
       "      <th>J</th>\n",
       "      <td>None</td>\n",
       "      <td>감독 및 기술감독</td>\n",
       "    </tr>\n",
       "  </tbody>\n",
       "</table>\n",
       "</div>"
      ],
      "text/plain": [
       "     이름                 직업\n",
       "B   김재호  환경/청소 및 경비 관련 관리자\n",
       "D   김영일       기타 음식서비스 종사원\n",
       "E   김재호      모피 및 가죽의복 제조원\n",
       "F   김은서       선장/항해사 및 도선사\n",
       "G   김지원       보험 심사원 및 사무원\n",
       "H   이민지              웹 개발자\n",
       "I   이미숙                주조원\n",
       "J  None          감독 및 기술감독"
      ]
     },
     "execution_count": 166,
     "metadata": {},
     "output_type": "execute_result"
    }
   ],
   "source": [
    "df2.drop(index=['A', 'C'], columns=['나이'])"
   ]
  },
  {
   "cell_type": "code",
   "execution_count": 167,
   "id": "4b4589b2",
   "metadata": {},
   "outputs": [
    {
     "data": {
      "text/html": [
       "<div>\n",
       "<style scoped>\n",
       "    .dataframe tbody tr th:only-of-type {\n",
       "        vertical-align: middle;\n",
       "    }\n",
       "\n",
       "    .dataframe tbody tr th {\n",
       "        vertical-align: top;\n",
       "    }\n",
       "\n",
       "    .dataframe thead th {\n",
       "        text-align: right;\n",
       "    }\n",
       "</style>\n",
       "<table border=\"1\" class=\"dataframe\">\n",
       "  <thead>\n",
       "    <tr style=\"text-align: right;\">\n",
       "      <th></th>\n",
       "      <th>index</th>\n",
       "      <th>이름</th>\n",
       "      <th>나이</th>\n",
       "      <th>직업</th>\n",
       "    </tr>\n",
       "  </thead>\n",
       "  <tbody>\n",
       "    <tr>\n",
       "      <th>0</th>\n",
       "      <td>A</td>\n",
       "      <td>김수민</td>\n",
       "      <td>27.0</td>\n",
       "      <td>주유원</td>\n",
       "    </tr>\n",
       "    <tr>\n",
       "      <th>1</th>\n",
       "      <td>B</td>\n",
       "      <td>김재호</td>\n",
       "      <td>37.0</td>\n",
       "      <td>환경/청소 및 경비 관련 관리자</td>\n",
       "    </tr>\n",
       "    <tr>\n",
       "      <th>2</th>\n",
       "      <td>C</td>\n",
       "      <td>김영자</td>\n",
       "      <td>28.0</td>\n",
       "      <td>금속기계부품 조립원</td>\n",
       "    </tr>\n",
       "    <tr>\n",
       "      <th>3</th>\n",
       "      <td>D</td>\n",
       "      <td>김영일</td>\n",
       "      <td>36.0</td>\n",
       "      <td>기타 음식서비스 종사원</td>\n",
       "    </tr>\n",
       "    <tr>\n",
       "      <th>4</th>\n",
       "      <td>E</td>\n",
       "      <td>김재호</td>\n",
       "      <td>36.0</td>\n",
       "      <td>모피 및 가죽의복 제조원</td>\n",
       "    </tr>\n",
       "    <tr>\n",
       "      <th>5</th>\n",
       "      <td>F</td>\n",
       "      <td>김은서</td>\n",
       "      <td>44.0</td>\n",
       "      <td>선장/항해사 및 도선사</td>\n",
       "    </tr>\n",
       "    <tr>\n",
       "      <th>6</th>\n",
       "      <td>G</td>\n",
       "      <td>김지원</td>\n",
       "      <td>33.0</td>\n",
       "      <td>보험 심사원 및 사무원</td>\n",
       "    </tr>\n",
       "    <tr>\n",
       "      <th>7</th>\n",
       "      <td>H</td>\n",
       "      <td>이민지</td>\n",
       "      <td>50.0</td>\n",
       "      <td>웹 개발자</td>\n",
       "    </tr>\n",
       "    <tr>\n",
       "      <th>8</th>\n",
       "      <td>I</td>\n",
       "      <td>이미숙</td>\n",
       "      <td>NaN</td>\n",
       "      <td>주조원</td>\n",
       "    </tr>\n",
       "    <tr>\n",
       "      <th>9</th>\n",
       "      <td>J</td>\n",
       "      <td>None</td>\n",
       "      <td>48.0</td>\n",
       "      <td>감독 및 기술감독</td>\n",
       "    </tr>\n",
       "  </tbody>\n",
       "</table>\n",
       "</div>"
      ],
      "text/plain": [
       "  index    이름    나이                 직업\n",
       "0     A   김수민  27.0                주유원\n",
       "1     B   김재호  37.0  환경/청소 및 경비 관련 관리자\n",
       "2     C   김영자  28.0         금속기계부품 조립원\n",
       "3     D   김영일  36.0       기타 음식서비스 종사원\n",
       "4     E   김재호  36.0      모피 및 가죽의복 제조원\n",
       "5     F   김은서  44.0       선장/항해사 및 도선사\n",
       "6     G   김지원  33.0       보험 심사원 및 사무원\n",
       "7     H   이민지  50.0              웹 개발자\n",
       "8     I   이미숙   NaN                주조원\n",
       "9     J  None  48.0          감독 및 기술감독"
      ]
     },
     "execution_count": 167,
     "metadata": {},
     "output_type": "execute_result"
    }
   ],
   "source": [
    "df2.reset_index()"
   ]
  },
  {
   "cell_type": "code",
   "execution_count": 168,
   "id": "e3aa8b1e",
   "metadata": {},
   "outputs": [
    {
     "data": {
      "text/html": [
       "<div>\n",
       "<style scoped>\n",
       "    .dataframe tbody tr th:only-of-type {\n",
       "        vertical-align: middle;\n",
       "    }\n",
       "\n",
       "    .dataframe tbody tr th {\n",
       "        vertical-align: top;\n",
       "    }\n",
       "\n",
       "    .dataframe thead th {\n",
       "        text-align: right;\n",
       "    }\n",
       "</style>\n",
       "<table border=\"1\" class=\"dataframe\">\n",
       "  <thead>\n",
       "    <tr style=\"text-align: right;\">\n",
       "      <th></th>\n",
       "      <th>이름</th>\n",
       "      <th>나이</th>\n",
       "      <th>직업</th>\n",
       "    </tr>\n",
       "  </thead>\n",
       "  <tbody>\n",
       "    <tr>\n",
       "      <th>0</th>\n",
       "      <td>김수민</td>\n",
       "      <td>27.0</td>\n",
       "      <td>주유원</td>\n",
       "    </tr>\n",
       "    <tr>\n",
       "      <th>1</th>\n",
       "      <td>김재호</td>\n",
       "      <td>37.0</td>\n",
       "      <td>환경/청소 및 경비 관련 관리자</td>\n",
       "    </tr>\n",
       "    <tr>\n",
       "      <th>2</th>\n",
       "      <td>김영자</td>\n",
       "      <td>28.0</td>\n",
       "      <td>금속기계부품 조립원</td>\n",
       "    </tr>\n",
       "    <tr>\n",
       "      <th>3</th>\n",
       "      <td>김영일</td>\n",
       "      <td>36.0</td>\n",
       "      <td>기타 음식서비스 종사원</td>\n",
       "    </tr>\n",
       "    <tr>\n",
       "      <th>4</th>\n",
       "      <td>김재호</td>\n",
       "      <td>36.0</td>\n",
       "      <td>모피 및 가죽의복 제조원</td>\n",
       "    </tr>\n",
       "    <tr>\n",
       "      <th>5</th>\n",
       "      <td>김은서</td>\n",
       "      <td>44.0</td>\n",
       "      <td>선장/항해사 및 도선사</td>\n",
       "    </tr>\n",
       "    <tr>\n",
       "      <th>6</th>\n",
       "      <td>김지원</td>\n",
       "      <td>33.0</td>\n",
       "      <td>보험 심사원 및 사무원</td>\n",
       "    </tr>\n",
       "    <tr>\n",
       "      <th>7</th>\n",
       "      <td>이민지</td>\n",
       "      <td>50.0</td>\n",
       "      <td>웹 개발자</td>\n",
       "    </tr>\n",
       "    <tr>\n",
       "      <th>8</th>\n",
       "      <td>이미숙</td>\n",
       "      <td>NaN</td>\n",
       "      <td>주조원</td>\n",
       "    </tr>\n",
       "    <tr>\n",
       "      <th>9</th>\n",
       "      <td>None</td>\n",
       "      <td>48.0</td>\n",
       "      <td>감독 및 기술감독</td>\n",
       "    </tr>\n",
       "  </tbody>\n",
       "</table>\n",
       "</div>"
      ],
      "text/plain": [
       "     이름    나이                 직업\n",
       "0   김수민  27.0                주유원\n",
       "1   김재호  37.0  환경/청소 및 경비 관련 관리자\n",
       "2   김영자  28.0         금속기계부품 조립원\n",
       "3   김영일  36.0       기타 음식서비스 종사원\n",
       "4   김재호  36.0      모피 및 가죽의복 제조원\n",
       "5   김은서  44.0       선장/항해사 및 도선사\n",
       "6   김지원  33.0       보험 심사원 및 사무원\n",
       "7   이민지  50.0              웹 개발자\n",
       "8   이미숙   NaN                주조원\n",
       "9  None  48.0          감독 및 기술감독"
      ]
     },
     "execution_count": 168,
     "metadata": {},
     "output_type": "execute_result"
    }
   ],
   "source": [
    "df2.reset_index(drop=True)"
   ]
  },
  {
   "cell_type": "code",
   "execution_count": 170,
   "id": "b1e6d3e2",
   "metadata": {},
   "outputs": [
    {
     "data": {
      "text/html": [
       "<div>\n",
       "<style scoped>\n",
       "    .dataframe tbody tr th:only-of-type {\n",
       "        vertical-align: middle;\n",
       "    }\n",
       "\n",
       "    .dataframe tbody tr th {\n",
       "        vertical-align: top;\n",
       "    }\n",
       "\n",
       "    .dataframe thead th {\n",
       "        text-align: right;\n",
       "    }\n",
       "</style>\n",
       "<table border=\"1\" class=\"dataframe\">\n",
       "  <thead>\n",
       "    <tr style=\"text-align: right;\">\n",
       "      <th></th>\n",
       "      <th>이름</th>\n",
       "      <th>나이</th>\n",
       "      <th>직업</th>\n",
       "    </tr>\n",
       "  </thead>\n",
       "  <tbody>\n",
       "    <tr>\n",
       "      <th>A</th>\n",
       "      <td>김수민</td>\n",
       "      <td>27.0</td>\n",
       "      <td>주유원</td>\n",
       "    </tr>\n",
       "    <tr>\n",
       "      <th>C</th>\n",
       "      <td>김영자</td>\n",
       "      <td>28.0</td>\n",
       "      <td>금속기계부품 조립원</td>\n",
       "    </tr>\n",
       "    <tr>\n",
       "      <th>G</th>\n",
       "      <td>김지원</td>\n",
       "      <td>33.0</td>\n",
       "      <td>보험 심사원 및 사무원</td>\n",
       "    </tr>\n",
       "    <tr>\n",
       "      <th>D</th>\n",
       "      <td>김영일</td>\n",
       "      <td>36.0</td>\n",
       "      <td>기타 음식서비스 종사원</td>\n",
       "    </tr>\n",
       "    <tr>\n",
       "      <th>E</th>\n",
       "      <td>김재호</td>\n",
       "      <td>36.0</td>\n",
       "      <td>모피 및 가죽의복 제조원</td>\n",
       "    </tr>\n",
       "    <tr>\n",
       "      <th>B</th>\n",
       "      <td>김재호</td>\n",
       "      <td>37.0</td>\n",
       "      <td>환경/청소 및 경비 관련 관리자</td>\n",
       "    </tr>\n",
       "    <tr>\n",
       "      <th>F</th>\n",
       "      <td>김은서</td>\n",
       "      <td>44.0</td>\n",
       "      <td>선장/항해사 및 도선사</td>\n",
       "    </tr>\n",
       "    <tr>\n",
       "      <th>J</th>\n",
       "      <td>None</td>\n",
       "      <td>48.0</td>\n",
       "      <td>감독 및 기술감독</td>\n",
       "    </tr>\n",
       "    <tr>\n",
       "      <th>H</th>\n",
       "      <td>이민지</td>\n",
       "      <td>50.0</td>\n",
       "      <td>웹 개발자</td>\n",
       "    </tr>\n",
       "    <tr>\n",
       "      <th>I</th>\n",
       "      <td>이미숙</td>\n",
       "      <td>NaN</td>\n",
       "      <td>주조원</td>\n",
       "    </tr>\n",
       "  </tbody>\n",
       "</table>\n",
       "</div>"
      ],
      "text/plain": [
       "     이름    나이                 직업\n",
       "A   김수민  27.0                주유원\n",
       "C   김영자  28.0         금속기계부품 조립원\n",
       "G   김지원  33.0       보험 심사원 및 사무원\n",
       "D   김영일  36.0       기타 음식서비스 종사원\n",
       "E   김재호  36.0      모피 및 가죽의복 제조원\n",
       "B   김재호  37.0  환경/청소 및 경비 관련 관리자\n",
       "F   김은서  44.0       선장/항해사 및 도선사\n",
       "J  None  48.0          감독 및 기술감독\n",
       "H   이민지  50.0              웹 개발자\n",
       "I   이미숙   NaN                주조원"
      ]
     },
     "execution_count": 170,
     "metadata": {},
     "output_type": "execute_result"
    }
   ],
   "source": [
    "df2.sort_values(by=['나이', '이름'])"
   ]
  },
  {
   "cell_type": "code",
   "execution_count": 171,
   "id": "1c86537c",
   "metadata": {},
   "outputs": [
    {
     "data": {
      "text/html": [
       "<div>\n",
       "<style scoped>\n",
       "    .dataframe tbody tr th:only-of-type {\n",
       "        vertical-align: middle;\n",
       "    }\n",
       "\n",
       "    .dataframe tbody tr th {\n",
       "        vertical-align: top;\n",
       "    }\n",
       "\n",
       "    .dataframe thead th {\n",
       "        text-align: right;\n",
       "    }\n",
       "</style>\n",
       "<table border=\"1\" class=\"dataframe\">\n",
       "  <thead>\n",
       "    <tr style=\"text-align: right;\">\n",
       "      <th></th>\n",
       "      <th>이름</th>\n",
       "      <th>나이</th>\n",
       "      <th>직업</th>\n",
       "    </tr>\n",
       "  </thead>\n",
       "  <tbody>\n",
       "    <tr>\n",
       "      <th>I</th>\n",
       "      <td>이미숙</td>\n",
       "      <td>NaN</td>\n",
       "      <td>주조원</td>\n",
       "    </tr>\n",
       "    <tr>\n",
       "      <th>A</th>\n",
       "      <td>김수민</td>\n",
       "      <td>27.0</td>\n",
       "      <td>주유원</td>\n",
       "    </tr>\n",
       "    <tr>\n",
       "      <th>C</th>\n",
       "      <td>김영자</td>\n",
       "      <td>28.0</td>\n",
       "      <td>금속기계부품 조립원</td>\n",
       "    </tr>\n",
       "    <tr>\n",
       "      <th>G</th>\n",
       "      <td>김지원</td>\n",
       "      <td>33.0</td>\n",
       "      <td>보험 심사원 및 사무원</td>\n",
       "    </tr>\n",
       "    <tr>\n",
       "      <th>D</th>\n",
       "      <td>김영일</td>\n",
       "      <td>36.0</td>\n",
       "      <td>기타 음식서비스 종사원</td>\n",
       "    </tr>\n",
       "    <tr>\n",
       "      <th>E</th>\n",
       "      <td>김재호</td>\n",
       "      <td>36.0</td>\n",
       "      <td>모피 및 가죽의복 제조원</td>\n",
       "    </tr>\n",
       "    <tr>\n",
       "      <th>B</th>\n",
       "      <td>김재호</td>\n",
       "      <td>37.0</td>\n",
       "      <td>환경/청소 및 경비 관련 관리자</td>\n",
       "    </tr>\n",
       "    <tr>\n",
       "      <th>F</th>\n",
       "      <td>김은서</td>\n",
       "      <td>44.0</td>\n",
       "      <td>선장/항해사 및 도선사</td>\n",
       "    </tr>\n",
       "    <tr>\n",
       "      <th>J</th>\n",
       "      <td>None</td>\n",
       "      <td>48.0</td>\n",
       "      <td>감독 및 기술감독</td>\n",
       "    </tr>\n",
       "    <tr>\n",
       "      <th>H</th>\n",
       "      <td>이민지</td>\n",
       "      <td>50.0</td>\n",
       "      <td>웹 개발자</td>\n",
       "    </tr>\n",
       "  </tbody>\n",
       "</table>\n",
       "</div>"
      ],
      "text/plain": [
       "     이름    나이                 직업\n",
       "I   이미숙   NaN                주조원\n",
       "A   김수민  27.0                주유원\n",
       "C   김영자  28.0         금속기계부품 조립원\n",
       "G   김지원  33.0       보험 심사원 및 사무원\n",
       "D   김영일  36.0       기타 음식서비스 종사원\n",
       "E   김재호  36.0      모피 및 가죽의복 제조원\n",
       "B   김재호  37.0  환경/청소 및 경비 관련 관리자\n",
       "F   김은서  44.0       선장/항해사 및 도선사\n",
       "J  None  48.0          감독 및 기술감독\n",
       "H   이민지  50.0              웹 개발자"
      ]
     },
     "execution_count": 171,
     "metadata": {},
     "output_type": "execute_result"
    }
   ],
   "source": [
    "df2.sort_values(by=['나이', '이름'], na_position='first')"
   ]
  },
  {
   "cell_type": "code",
   "execution_count": 172,
   "id": "3acb8330",
   "metadata": {},
   "outputs": [
    {
     "data": {
      "text/html": [
       "<div>\n",
       "<style scoped>\n",
       "    .dataframe tbody tr th:only-of-type {\n",
       "        vertical-align: middle;\n",
       "    }\n",
       "\n",
       "    .dataframe tbody tr th {\n",
       "        vertical-align: top;\n",
       "    }\n",
       "\n",
       "    .dataframe thead th {\n",
       "        text-align: right;\n",
       "    }\n",
       "</style>\n",
       "<table border=\"1\" class=\"dataframe\">\n",
       "  <thead>\n",
       "    <tr style=\"text-align: right;\">\n",
       "      <th></th>\n",
       "      <th>이름</th>\n",
       "      <th>나이</th>\n",
       "      <th>직업</th>\n",
       "    </tr>\n",
       "  </thead>\n",
       "  <tbody>\n",
       "    <tr>\n",
       "      <th>0</th>\n",
       "      <td>이미숙</td>\n",
       "      <td>NaN</td>\n",
       "      <td>주조원</td>\n",
       "    </tr>\n",
       "    <tr>\n",
       "      <th>1</th>\n",
       "      <td>김수민</td>\n",
       "      <td>27.0</td>\n",
       "      <td>주유원</td>\n",
       "    </tr>\n",
       "    <tr>\n",
       "      <th>2</th>\n",
       "      <td>김영자</td>\n",
       "      <td>28.0</td>\n",
       "      <td>금속기계부품 조립원</td>\n",
       "    </tr>\n",
       "    <tr>\n",
       "      <th>3</th>\n",
       "      <td>김지원</td>\n",
       "      <td>33.0</td>\n",
       "      <td>보험 심사원 및 사무원</td>\n",
       "    </tr>\n",
       "    <tr>\n",
       "      <th>4</th>\n",
       "      <td>김영일</td>\n",
       "      <td>36.0</td>\n",
       "      <td>기타 음식서비스 종사원</td>\n",
       "    </tr>\n",
       "    <tr>\n",
       "      <th>5</th>\n",
       "      <td>김재호</td>\n",
       "      <td>36.0</td>\n",
       "      <td>모피 및 가죽의복 제조원</td>\n",
       "    </tr>\n",
       "    <tr>\n",
       "      <th>6</th>\n",
       "      <td>김재호</td>\n",
       "      <td>37.0</td>\n",
       "      <td>환경/청소 및 경비 관련 관리자</td>\n",
       "    </tr>\n",
       "    <tr>\n",
       "      <th>7</th>\n",
       "      <td>김은서</td>\n",
       "      <td>44.0</td>\n",
       "      <td>선장/항해사 및 도선사</td>\n",
       "    </tr>\n",
       "    <tr>\n",
       "      <th>8</th>\n",
       "      <td>None</td>\n",
       "      <td>48.0</td>\n",
       "      <td>감독 및 기술감독</td>\n",
       "    </tr>\n",
       "    <tr>\n",
       "      <th>9</th>\n",
       "      <td>이민지</td>\n",
       "      <td>50.0</td>\n",
       "      <td>웹 개발자</td>\n",
       "    </tr>\n",
       "  </tbody>\n",
       "</table>\n",
       "</div>"
      ],
      "text/plain": [
       "     이름    나이                 직업\n",
       "0   이미숙   NaN                주조원\n",
       "1   김수민  27.0                주유원\n",
       "2   김영자  28.0         금속기계부품 조립원\n",
       "3   김지원  33.0       보험 심사원 및 사무원\n",
       "4   김영일  36.0       기타 음식서비스 종사원\n",
       "5   김재호  36.0      모피 및 가죽의복 제조원\n",
       "6   김재호  37.0  환경/청소 및 경비 관련 관리자\n",
       "7   김은서  44.0       선장/항해사 및 도선사\n",
       "8  None  48.0          감독 및 기술감독\n",
       "9   이민지  50.0              웹 개발자"
      ]
     },
     "execution_count": 172,
     "metadata": {},
     "output_type": "execute_result"
    }
   ],
   "source": [
    "df2.sort_values(by=['나이', '이름'], na_position='first', ignore_index=True)"
   ]
  }
 ],
 "metadata": {
  "kernelspec": {
   "display_name": "base",
   "language": "python",
   "name": "python3"
  },
  "language_info": {
   "codemirror_mode": {
    "name": "ipython",
    "version": 3
   },
   "file_extension": ".py",
   "mimetype": "text/x-python",
   "name": "python",
   "nbconvert_exporter": "python",
   "pygments_lexer": "ipython3",
   "version": "3.12.3"
  }
 },
 "nbformat": 4,
 "nbformat_minor": 5
}
